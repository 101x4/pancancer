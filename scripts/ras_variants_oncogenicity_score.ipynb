{
 "cells": [
  {
   "cell_type": "markdown",
   "metadata": {},
   "source": [
    "# Visualizing Ras Classification Scores by Oncogenicity Status\n",
    "\n",
    "The Pathway Working Group from TCGA PanCancerAtlas curated variants in Ras Pathway genes by their expert-predicted oncogenicity status (either oncogenic or unconfirmed). Here, we output two sets of files\n",
    "\n",
    "1. Oncogenicity scores by Ras classifier score dataframe\n",
    "2. Swarm plots of Ras classifier scores by Oncogenicity status"
   ]
  },
  {
   "cell_type": "code",
   "execution_count": 1,
   "metadata": {
    "collapsed": true
   },
   "outputs": [],
   "source": [
    "import os\n",
    "import csv\n",
    "import numpy as np\n",
    "import pandas as pd\n",
    "from decimal import Decimal\n",
    "from scipy.stats import ttest_ind\n",
    "\n",
    "import matplotlib.pyplot as plt\n",
    "import seaborn as sns"
   ]
  },
  {
   "cell_type": "code",
   "execution_count": 2,
   "metadata": {
    "collapsed": true
   },
   "outputs": [],
   "source": [
    "%matplotlib inline\n",
    "plt.style.use('seaborn-notebook')"
   ]
  },
  {
   "cell_type": "code",
   "execution_count": 3,
   "metadata": {
    "collapsed": true
   },
   "outputs": [],
   "source": [
    "sns.set(style=\"whitegrid\")\n",
    "sns.set_context(\"paper\", rc={\"font.size\":14, \"axes.titlesize\":15, \"axes.labelsize\":20,\n",
    "                             'xtick.labelsize':14, 'ytick.labelsize':14})"
   ]
  },
  {
   "cell_type": "code",
   "execution_count": 4,
   "metadata": {
    "collapsed": true
   },
   "outputs": [],
   "source": [
    "np.random.seed(123)"
   ]
  },
  {
   "cell_type": "code",
   "execution_count": 5,
   "metadata": {
    "collapsed": true
   },
   "outputs": [],
   "source": [
    "def assign_curation(aa_row, df='ras_variant'):\n",
    "    \"\"\"\n",
    "    Determines if the specific amino acid mutation is cataloged as Oncogenic \n",
    "    in the Ras pathway or not. To be used as a call to pandas.DataFrame().apply() \n",
    "    \n",
    "    Arguments:\n",
    "      aa_row - a row that has gene and mutation information\n",
    "      df - the type of dataframe called, can either be `ras_variant` or `sample`\n",
    "           depending on the type of dataframe to assign curation\n",
    "    \n",
    "    Output:\n",
    "      Oncogenicity Status for the given amino acid mutation\n",
    "    \"\"\"\n",
    "    gene = aa_row['Hugo_Symbol']\n",
    "    if df == 'ras_variant':\n",
    "        aa = aa_row.name\n",
    "    elif df == 'sample':\n",
    "        aa = aa_row['HGVSp']\n",
    "    ras_sub = ras_variant_df[ras_variant_df.index == gene]\n",
    "    if len(ras_sub) == 0:\n",
    "        return 'Not Ras'\n",
    "    \n",
    "    if aa in ras_sub['mutation'].tolist():\n",
    "        return 'Oncogenic'\n",
    "    else:\n",
    "        return 'Unconfirmed'"
   ]
  },
  {
   "cell_type": "code",
   "execution_count": 6,
   "metadata": {
    "collapsed": true
   },
   "outputs": [],
   "source": [
    "# Set File names\n",
    "aa_mutation_scores_file = os.path.join('..', 'classifiers', 'RAS', 'tables',\n",
    "                                       'amino_acid_mutation_scores.tsv')\n",
    "ras_variant_curation_file = os.path.join('..', 'classifiers', 'RAS', 'tables',\n",
    "                                         'Ras_pathway_variant_oncogenicity_data.tsv')\n",
    "sample_mutation_scores_file = os.path.join('..', 'classifiers', 'RAS', 'tables',\n",
    "                                           'mutation_classification_scores.tsv')\n",
    "\n",
    "# Output Files\n",
    "aa_out_file = os.path.join('..', 'classifiers', 'RAS', 'tables',\n",
    "                           'RAS_oncogenecity_predictions.tsv')"
   ]
  },
  {
   "cell_type": "code",
   "execution_count": 7,
   "metadata": {
    "collapsed": false
   },
   "outputs": [
    {
     "data": {
      "text/html": [
       "<div>\n",
       "<style>\n",
       "    .dataframe thead tr:only-child th {\n",
       "        text-align: right;\n",
       "    }\n",
       "\n",
       "    .dataframe thead th {\n",
       "        text-align: left;\n",
       "    }\n",
       "\n",
       "    .dataframe tbody tr th {\n",
       "        vertical-align: top;\n",
       "    }\n",
       "</style>\n",
       "<table border=\"1\" class=\"dataframe\">\n",
       "  <thead>\n",
       "    <tr style=\"text-align: right;\">\n",
       "      <th></th>\n",
       "      <th>mutation</th>\n",
       "      <th>gene_type</th>\n",
       "      <th>MutSig</th>\n",
       "      <th>hotspots</th>\n",
       "      <th>copy_number_fusion</th>\n",
       "      <th>GISTIC_amp</th>\n",
       "      <th>GISTIC_del</th>\n",
       "      <th>McCormick</th>\n",
       "    </tr>\n",
       "    <tr>\n",
       "      <th>Gene</th>\n",
       "      <th></th>\n",
       "      <th></th>\n",
       "      <th></th>\n",
       "      <th></th>\n",
       "      <th></th>\n",
       "      <th></th>\n",
       "      <th></th>\n",
       "      <th></th>\n",
       "    </tr>\n",
       "  </thead>\n",
       "  <tbody>\n",
       "    <tr>\n",
       "      <th>ALK</th>\n",
       "      <td>fusion gene</td>\n",
       "      <td>OG</td>\n",
       "      <td>1</td>\n",
       "      <td>some hotspots &amp; known mutations</td>\n",
       "      <td>fusion gene</td>\n",
       "      <td>NaN</td>\n",
       "      <td>;</td>\n",
       "      <td>yes</td>\n",
       "    </tr>\n",
       "    <tr>\n",
       "      <th>ALK</th>\n",
       "      <td>p.Asp1203Tyr</td>\n",
       "      <td>OG</td>\n",
       "      <td>1</td>\n",
       "      <td>some hotspots &amp; known mutations</td>\n",
       "      <td>fusion gene</td>\n",
       "      <td>NaN</td>\n",
       "      <td>;</td>\n",
       "      <td>yes</td>\n",
       "    </tr>\n",
       "  </tbody>\n",
       "</table>\n",
       "</div>"
      ],
      "text/plain": [
       "          mutation gene_type  MutSig                         hotspots  \\\n",
       "Gene                                                                    \n",
       "ALK    fusion gene        OG       1  some hotspots & known mutations   \n",
       "ALK   p.Asp1203Tyr        OG       1  some hotspots & known mutations   \n",
       "\n",
       "     copy_number_fusion GISTIC_amp GISTIC_del McCormick  \n",
       "Gene                                                     \n",
       "ALK         fusion gene        NaN          ;       yes  \n",
       "ALK         fusion gene        NaN          ;       yes  "
      ]
     },
     "execution_count": 7,
     "metadata": {},
     "output_type": "execute_result"
    }
   ],
   "source": [
    "# Load Ras variant curation file\n",
    "ras_variant_df = pd.read_table(ras_variant_curation_file, index_col=0)\n",
    "ras_variant_df.head(2)"
   ]
  },
  {
   "cell_type": "code",
   "execution_count": 8,
   "metadata": {
    "collapsed": false
   },
   "outputs": [
    {
     "data": {
      "text/html": [
       "<div>\n",
       "<style>\n",
       "    .dataframe thead tr:only-child th {\n",
       "        text-align: right;\n",
       "    }\n",
       "\n",
       "    .dataframe thead th {\n",
       "        text-align: left;\n",
       "    }\n",
       "\n",
       "    .dataframe tbody tr th {\n",
       "        vertical-align: top;\n",
       "    }\n",
       "</style>\n",
       "<table border=\"1\" class=\"dataframe\">\n",
       "  <thead>\n",
       "    <tr style=\"text-align: right;\">\n",
       "      <th></th>\n",
       "      <th>Variant_Classification</th>\n",
       "      <th>Hugo_Symbol</th>\n",
       "      <th>Mean</th>\n",
       "      <th>SD</th>\n",
       "      <th>count</th>\n",
       "      <th>low_CI</th>\n",
       "      <th>high_CI</th>\n",
       "      <th>designation</th>\n",
       "    </tr>\n",
       "    <tr>\n",
       "      <th>HGVSp</th>\n",
       "      <th></th>\n",
       "      <th></th>\n",
       "      <th></th>\n",
       "      <th></th>\n",
       "      <th></th>\n",
       "      <th></th>\n",
       "      <th></th>\n",
       "      <th></th>\n",
       "    </tr>\n",
       "  </thead>\n",
       "  <tbody>\n",
       "    <tr>\n",
       "      <th>p.Val600Glu</th>\n",
       "      <td>Missense_Mutation</td>\n",
       "      <td>BRAF</td>\n",
       "      <td>0.379832</td>\n",
       "      <td>0.222155</td>\n",
       "      <td>453</td>\n",
       "      <td>0.360466</td>\n",
       "      <td>0.401139</td>\n",
       "      <td>Oncogenic</td>\n",
       "    </tr>\n",
       "    <tr>\n",
       "      <th>p.Gly12Asp</th>\n",
       "      <td>Missense_Mutation</td>\n",
       "      <td>KRAS</td>\n",
       "      <td>0.819980</td>\n",
       "      <td>0.126311</td>\n",
       "      <td>166</td>\n",
       "      <td>0.800135</td>\n",
       "      <td>0.838195</td>\n",
       "      <td>Oncogenic</td>\n",
       "    </tr>\n",
       "  </tbody>\n",
       "</table>\n",
       "</div>"
      ],
      "text/plain": [
       "            Variant_Classification Hugo_Symbol      Mean        SD  count  \\\n",
       "HGVSp                                                                       \n",
       "p.Val600Glu      Missense_Mutation        BRAF  0.379832  0.222155    453   \n",
       "p.Gly12Asp       Missense_Mutation        KRAS  0.819980  0.126311    166   \n",
       "\n",
       "               low_CI   high_CI designation  \n",
       "HGVSp                                        \n",
       "p.Val600Glu  0.360466  0.401139   Oncogenic  \n",
       "p.Gly12Asp   0.800135  0.838195   Oncogenic  "
      ]
     },
     "execution_count": 8,
     "metadata": {},
     "output_type": "execute_result"
    }
   ],
   "source": [
    "# Add oncogenecity designation to each amino acid mutation and write to file\n",
    "aa_scores = pd.read_table(aa_mutation_scores_file, index_col=0)\n",
    "\n",
    "aa_onco_df = aa_scores.assign(designation = aa_scores.apply(assign_curation, axis=1))\n",
    "aa_onco_df.to_csv(aa_out_file, sep='\\t')\n",
    "\n",
    "aa_onco_df.head(2)"
   ]
  },
  {
   "cell_type": "code",
   "execution_count": 9,
   "metadata": {
    "collapsed": false
   },
   "outputs": [
    {
     "data": {
      "text/html": [
       "<div>\n",
       "<style>\n",
       "    .dataframe thead tr:only-child th {\n",
       "        text-align: right;\n",
       "    }\n",
       "\n",
       "    .dataframe thead th {\n",
       "        text-align: left;\n",
       "    }\n",
       "\n",
       "    .dataframe tbody tr th {\n",
       "        vertical-align: top;\n",
       "    }\n",
       "</style>\n",
       "<table border=\"1\" class=\"dataframe\">\n",
       "  <thead>\n",
       "    <tr style=\"text-align: right;\">\n",
       "      <th></th>\n",
       "      <th>log10_mut</th>\n",
       "      <th>total_status</th>\n",
       "      <th>weight</th>\n",
       "      <th>NRAS</th>\n",
       "      <th>HRAS</th>\n",
       "      <th>KRAS</th>\n",
       "      <th>HRAS_gain</th>\n",
       "      <th>KRAS_gain</th>\n",
       "      <th>NRAS_gain</th>\n",
       "      <th>PATIENT_BARCODE</th>\n",
       "      <th>...</th>\n",
       "      <th>SUBTYPE</th>\n",
       "      <th>hypermutated</th>\n",
       "      <th>include</th>\n",
       "      <th>ID.1</th>\n",
       "      <th>Tumor_Sample_Barcode</th>\n",
       "      <th>Hugo_Symbol</th>\n",
       "      <th>HGVSc</th>\n",
       "      <th>HGVSp</th>\n",
       "      <th>Variant_Classification</th>\n",
       "      <th>curation</th>\n",
       "    </tr>\n",
       "    <tr>\n",
       "      <th>ID</th>\n",
       "      <th></th>\n",
       "      <th></th>\n",
       "      <th></th>\n",
       "      <th></th>\n",
       "      <th></th>\n",
       "      <th></th>\n",
       "      <th></th>\n",
       "      <th></th>\n",
       "      <th></th>\n",
       "      <th></th>\n",
       "      <th></th>\n",
       "      <th></th>\n",
       "      <th></th>\n",
       "      <th></th>\n",
       "      <th></th>\n",
       "      <th></th>\n",
       "      <th></th>\n",
       "      <th></th>\n",
       "      <th></th>\n",
       "      <th></th>\n",
       "      <th></th>\n",
       "    </tr>\n",
       "  </thead>\n",
       "  <tbody>\n",
       "    <tr>\n",
       "      <th>TCGA-02-2485-01</th>\n",
       "      <td>1.748188</td>\n",
       "      <td>0.0</td>\n",
       "      <td>0.467431</td>\n",
       "      <td>0.0</td>\n",
       "      <td>0.0</td>\n",
       "      <td>0.0</td>\n",
       "      <td>0.0</td>\n",
       "      <td>0.0</td>\n",
       "      <td>0.0</td>\n",
       "      <td>TCGA-02-2485</td>\n",
       "      <td>...</td>\n",
       "      <td>IDHwt</td>\n",
       "      <td>0.0</td>\n",
       "      <td>0.0</td>\n",
       "      <td>TCGA-02-2485-01</td>\n",
       "      <td>TCGA-02-2485-01A-01D-1494-08</td>\n",
       "      <td>EGFR</td>\n",
       "      <td>c.866C&gt;A</td>\n",
       "      <td>p.Ala289Asp</td>\n",
       "      <td>Missense_Mutation</td>\n",
       "      <td>Oncogenic</td>\n",
       "    </tr>\n",
       "    <tr>\n",
       "      <th>TCGA-04-1362-01</th>\n",
       "      <td>1.838849</td>\n",
       "      <td>0.0</td>\n",
       "      <td>0.484370</td>\n",
       "      <td>0.0</td>\n",
       "      <td>0.0</td>\n",
       "      <td>0.0</td>\n",
       "      <td>0.0</td>\n",
       "      <td>0.0</td>\n",
       "      <td>0.0</td>\n",
       "      <td>TCGA-04-1362</td>\n",
       "      <td>...</td>\n",
       "      <td>Not_Applicable</td>\n",
       "      <td>0.0</td>\n",
       "      <td>1.0</td>\n",
       "      <td>TCGA-04-1362-01</td>\n",
       "      <td>TCGA-04-1362-01A-01W-0492-08</td>\n",
       "      <td>SOS1</td>\n",
       "      <td>c.3691C&gt;G</td>\n",
       "      <td>p.Leu1231Val</td>\n",
       "      <td>Missense_Mutation</td>\n",
       "      <td>Unconfirmed</td>\n",
       "    </tr>\n",
       "  </tbody>\n",
       "</table>\n",
       "<p>2 rows × 21 columns</p>\n",
       "</div>"
      ],
      "text/plain": [
       "                 log10_mut  total_status    weight  NRAS  HRAS  KRAS  \\\n",
       "ID                                                                     \n",
       "TCGA-02-2485-01   1.748188           0.0  0.467431   0.0   0.0   0.0   \n",
       "TCGA-04-1362-01   1.838849           0.0  0.484370   0.0   0.0   0.0   \n",
       "\n",
       "                 HRAS_gain  KRAS_gain  NRAS_gain PATIENT_BARCODE     ...       \\\n",
       "ID                                                                   ...        \n",
       "TCGA-02-2485-01        0.0        0.0        0.0    TCGA-02-2485     ...        \n",
       "TCGA-04-1362-01        0.0        0.0        0.0    TCGA-04-1362     ...        \n",
       "\n",
       "                        SUBTYPE hypermutated  include             ID.1  \\\n",
       "ID                                                                       \n",
       "TCGA-02-2485-01           IDHwt          0.0      0.0  TCGA-02-2485-01   \n",
       "TCGA-04-1362-01  Not_Applicable          0.0      1.0  TCGA-04-1362-01   \n",
       "\n",
       "                         Tumor_Sample_Barcode Hugo_Symbol      HGVSc  \\\n",
       "ID                                                                     \n",
       "TCGA-02-2485-01  TCGA-02-2485-01A-01D-1494-08        EGFR   c.866C>A   \n",
       "TCGA-04-1362-01  TCGA-04-1362-01A-01W-0492-08        SOS1  c.3691C>G   \n",
       "\n",
       "                        HGVSp Variant_Classification     curation  \n",
       "ID                                                                 \n",
       "TCGA-02-2485-01   p.Ala289Asp      Missense_Mutation    Oncogenic  \n",
       "TCGA-04-1362-01  p.Leu1231Val      Missense_Mutation  Unconfirmed  \n",
       "\n",
       "[2 rows x 21 columns]"
      ]
     },
     "execution_count": 9,
     "metadata": {},
     "output_type": "execute_result"
    }
   ],
   "source": [
    "# Add curation to specific mutation scores\n",
    "mut_scores_df = pd.read_table(sample_mutation_scores_file, index_col=0)\n",
    "mut_scores_df = (\n",
    "    mut_scores_df[mut_scores_df['Variant_Classification']\n",
    "                  .isin(['Missense_Mutation', 'Nonsense_Mutation'])]\n",
    "    )\n",
    "ras_pathway_scores_df = mut_scores_df[mut_scores_df['Hugo_Symbol'].isin(ras_variant_df.index.tolist())]\n",
    "ras_pathway_scores_df = (\n",
    "    ras_pathway_scores_df.assign(\n",
    "        curation = ras_pathway_scores_df.apply(lambda x:\n",
    "                                               assign_curation(x, df='sample'), axis=1))\n",
    "    )\n",
    "ras_pathway_scores_df.head(2)"
   ]
  },
  {
   "cell_type": "code",
   "execution_count": 10,
   "metadata": {
    "collapsed": false
   },
   "outputs": [],
   "source": [
    "# Separate out samples with Oncogenic curation status\n",
    "oncogenic_sample_df = ras_pathway_scores_df[ras_pathway_scores_df['curation'] == 'Oncogenic']\n",
    "unconfirmed_sample_df = (\n",
    "    ras_pathway_scores_df[~ras_pathway_scores_df.index.isin(oncogenic_sample_df.index)]\n",
    "    )\n",
    "\n",
    "filtered_df = pd.concat([oncogenic_sample_df, unconfirmed_sample_df])"
   ]
  },
  {
   "cell_type": "code",
   "execution_count": 11,
   "metadata": {
    "collapsed": false
   },
   "outputs": [
    {
     "name": "stderr",
     "output_type": "stream",
     "text": [
      "/home/gway/anaconda3/lib/python3.5/site-packages/numpy/core/fromnumeric.py:3146: RuntimeWarning: Degrees of freedom <= 0 for slice\n",
      "  **kwargs)\n",
      "/home/gway/anaconda3/lib/python3.5/site-packages/numpy/core/_methods.py:127: RuntimeWarning: invalid value encountered in double_scalars\n",
      "  ret = ret.dtype.type(ret / rcount)\n"
     ]
    }
   ],
   "source": [
    "# Generate and Save plots\n",
    "plt.rcParams['figure.figsize']=(3.5, 4)\n",
    "t_test_results = []\n",
    "x1, x2 = 0, 1\n",
    "\n",
    "for gene in set(mut_scores_df['Hugo_Symbol']):\n",
    "    gene_mutation_score_df = filtered_df[filtered_df['Hugo_Symbol'] == gene]\n",
    "    gene_mutation_score_df = gene_mutation_score_df.dropna(axis=0, subset=['weight'])\n",
    "    fig_name = os.path.join('..', 'figures', 'variants', 'variant_prediction_{}.pdf'.format(gene))\n",
    "    try:\n",
    "        # perform an independent t-test for prediction scores by oncogenicity\n",
    "        oncogenic_scores = (\n",
    "            gene_mutation_score_df.loc[\n",
    "                gene_mutation_score_df['curation'] == 'Oncogenic', 'weight']\n",
    "            )\n",
    "        unconfirmed_scores = (\n",
    "            gene_mutation_score_df.loc[\n",
    "                gene_mutation_score_df['curation'] == 'Unconfirmed', 'weight']\n",
    "            )\n",
    "\n",
    "        t_results = ttest_ind(a = oncogenic_scores,\n",
    "                              b = unconfirmed_scores, equal_var = False)\n",
    "        add_result = [gene, t_results.pvalue, t_results.statistic]\n",
    "        t_test_results.append(add_result)\n",
    "        \n",
    "        # Setup p value annotation\n",
    "        max_val = gene_mutation_score_df['weight'].max()\n",
    "        y, h = max_val + 0.06, 0.05\n",
    "        \n",
    "        # Plot\n",
    "        ax = sns.stripplot(x='curation', y='weight', data=gene_mutation_score_df, \n",
    "                           palette = {'Oncogenic': \"seagreen\", 'Unconfirmed': 'goldenrod'},\n",
    "                           jitter=0.35, size=3.25, alpha=0.65)\n",
    "        ax.axes.set_ylim(0, max_val + 0.2)\n",
    "        ax.set_yticklabels([0, 0.2, 0.4, 0.6, 0.8, 1, ''])\n",
    "        ax.set_ylabel('Ras Classifier Score')\n",
    "        ax.set_xlabel(gene)\n",
    "        plt.axhline(0.5, color='grey', linestyle='dashed', linewidth=2)\n",
    "        \n",
    "        # Only display t-test bars if there are two classes of data\n",
    "        if len(oncogenic_scores) != 0 and len(unconfirmed_scores) != 0:\n",
    "            plt.plot([x1, x1, x2, x2], [y, y+h, y+h, y], lw=1.5, c='black')\n",
    "            plt.text(.5, y+h, \"{:.2E}\".format(Decimal(t_results.pvalue)),\n",
    "                     ha='center', va='bottom', color=\"black\")\n",
    "    \n",
    "        plt.tight_layout()\n",
    "        plt.savefig(fig_name)\n",
    "        plt.close()\n",
    "    \n",
    "    except:\n",
    "        next"
   ]
  },
  {
   "cell_type": "code",
   "execution_count": 12,
   "metadata": {
    "collapsed": false
   },
   "outputs": [],
   "source": [
    "# Write out full t-test results\n",
    "t_test_file = os.path.join('..', 'results', 'ras_t_test_oncogenicity.tsv')\n",
    "with open(t_test_file, 'w') as csvfile:\n",
    "    onco_writer = csv.writer(csvfile, delimiter='\\t')\n",
    "    onco_writer.writerow(['gene', 'p_value', 't_statistic'])\n",
    "    for t_ in t_test_results:\n",
    "        onco_writer.writerow(t_)"
   ]
  },
  {
   "cell_type": "markdown",
   "metadata": {},
   "source": [
    "## Investigate cooccurrence of Ras mutations with TP53 and SUZ12"
   ]
  },
  {
   "cell_type": "code",
   "execution_count": 13,
   "metadata": {
    "collapsed": false
   },
   "outputs": [],
   "source": [
    "mut_file = os.path.join('..', 'data', 'pancan_mutation_freeze.tsv')\n",
    "mutation_df = pd.read_table(mut_file, index_col=0)"
   ]
  },
  {
   "cell_type": "code",
   "execution_count": 14,
   "metadata": {
    "collapsed": true
   },
   "outputs": [],
   "source": [
    "genes = ['TP53', 'SUZ12']\n",
    "y = mutation_df[genes]"
   ]
  },
  {
   "cell_type": "code",
   "execution_count": 15,
   "metadata": {
    "collapsed": false
   },
   "outputs": [],
   "source": [
    "plot_df = y.merge(ras_pathway_scores_df, left_index=True, right_index=True)"
   ]
  },
  {
   "cell_type": "code",
   "execution_count": 16,
   "metadata": {
    "collapsed": true
   },
   "outputs": [],
   "source": [
    "def plot_ras_score(df, alt_gene):\n",
    "    ax = sns.boxplot(x=\"total_status\", y=\"weight\", data=plot_df,\n",
    "                 hue=alt_gene, palette = {0: \"whitesmoke\", 1: 'gainsboro'},\n",
    "                 fliersize=0)\n",
    "    ax = sns.stripplot(x='total_status', y='weight', hue=alt_gene,\n",
    "                       data=plot_df, \n",
    "                       dodge=True, edgecolor='gray',\n",
    "                       palette = {1: \"seagreen\", 0: 'goldenrod'},\n",
    "                       jitter=0.25, size=2, alpha=0.65)\n",
    "    handles, labels = ax.get_legend_handles_labels()\n",
    "    l = plt.legend(handles[2:4], ['Wild-Type', 'Mutant'], bbox_to_anchor=(.63, 0.2), loc=2, borderaxespad=0.)\n",
    "    l.set_title(alt_gene)\n",
    "    ax.axes.set_ylim(0, 1.3)\n",
    "    ax.set_yticklabels([0, 0.2, 0.4, 0.6, 0.8, 1, ''])\n",
    "    ax.set_xticklabels(['Ras WT', 'Ras Mutant'])\n",
    "    ax.set_ylabel('Ras Classifier Score')\n",
    "    ax.set_xlabel('Ras Status')\n",
    "    ax.legend\n",
    "    plt.axhline(0.5, color='black', linestyle='dashed', linewidth=1)\n",
    "    \n",
    "    # Ras mutant vs. Ras wildtype\n",
    "    ras_mutant = plot_df[plot_df['total_status'] == 1]\n",
    "    ras_wt = plot_df[plot_df['total_status'] == 0]\n",
    "\n",
    "    # Also interested in alt_gene status within Ras mutant samples\n",
    "    alt_gene_mutant = ras_mutant[ras_mutant[alt_gene] == 1]\n",
    "    alt_gene_wt = ras_mutant[ras_mutant[alt_gene] == 0]\n",
    "\n",
    "    # Also interested in alt_gene status within Ras wildtype samples\n",
    "    alt_gene_mutant_raswt = ras_wt[ras_wt[alt_gene] == 1]\n",
    "    alt_gene_wt_raswt = ras_wt[ras_wt[alt_gene] == 0]\n",
    "    \n",
    "    # Output t-test results\n",
    "    t_results_ras = ttest_ind(a = ras_mutant['weight'],\n",
    "                              b = ras_wt['weight'], equal_var = False)\n",
    "\n",
    "    t_results_alt = ttest_ind(a = alt_gene_mutant['weight'],\n",
    "                              b = alt_gene_wt['weight'], equal_var = False)\n",
    "    \n",
    "    t_results_alt_raswt = ttest_ind(a = alt_gene_mutant_raswt['weight'],\n",
    "                                    b = alt_gene_wt_raswt['weight'], equal_var = False)\n",
    "    \n",
    "    # Add Ras T-Test Results\n",
    "    plt.plot([x1, x1, x2, x2], [y1, y1+h, y1+h, y1], lw=1.2, c='black')\n",
    "    plt.text(.5, y1+h, t_results_ras.pvalue,\n",
    "             ha='center', va='bottom', color=\"black\")\n",
    "\n",
    "    # Add alt_gene mut t-test results\n",
    "    plt.plot([x3, x3, x4, x4], [y2, y2+h, y2+h, y2], lw=1.2, c='black')\n",
    "    plt.text(0, y2+h, \"{:.2E}\".format(Decimal(t_results_alt_raswt.pvalue)),\n",
    "             ha='center', va='bottom', color=\"black\")\n",
    "    \n",
    "    # Add alt_gene wild-type t-test results\n",
    "    plt.plot([x5, x5, x6, x6], [y2, y2+h, y2+h, y2], lw=1.2, c='black')\n",
    "    plt.text(1, y2+h, \"{:.2E}\".format(Decimal(t_results_alt.pvalue)),\n",
    "             ha='center', va='bottom', color=\"black\")\n",
    "    plt.tight_layout()"
   ]
  },
  {
   "cell_type": "code",
   "execution_count": 17,
   "metadata": {
    "collapsed": false
   },
   "outputs": [],
   "source": [
    "# Plot Results\n",
    "x1, x2 = 0, 1\n",
    "x3, x4 = -0.2, 0.2\n",
    "x5, x6 = 0.8, 1.2\n",
    "y1, y2, h = 1.17, 1, 0.03\n",
    "plt.rcParams['figure.figsize']=(3.5, 4)"
   ]
  },
  {
   "cell_type": "code",
   "execution_count": 18,
   "metadata": {
    "collapsed": false
   },
   "outputs": [
    {
     "data": {
      "image/png": "[encoded data removed]",
      "text/plain": [
       "<matplotlib.figure.Figure at 0x7f3dd686fe10>"
      ]
     },
     "metadata": {},
     "output_type": "display_data"
    }
   ],
   "source": [
    "plot_ras_score(plot_df, 'SUZ12')\n",
    "base_path = os.path.join('..', 'classifiers', 'RAS', 'figures')\n",
    "fig_file = os.path.join(base_path, 'suz12_cooccurence.png')\n",
    "plt.savefig(fig_file)"
   ]
  },
  {
   "cell_type": "code",
   "execution_count": 19,
   "metadata": {
    "collapsed": false
   },
   "outputs": [
    {
     "data": {
      "image/png": "[encoded data removed]",
      "text/plain": [
       "<matplotlib.figure.Figure at 0x7f3dd53ee588>"
      ]
     },
     "metadata": {},
     "output_type": "display_data"
    }
   ],
   "source": [
    "plot_ras_score(plot_df, 'TP53')\n",
    "fig_file = os.path.join(base_path, 'tp53_cooccurence.png')\n",
    "plt.savefig(fig_file)"
   ]
  }
 ],
 "metadata": {
  "kernelspec": {
   "display_name": "Python [default]",
   "language": "python",
   "name": "python3"
  },
  "language_info": {
   "codemirror_mode": {
    "name": "ipython",
    "version": 3
   },
   "file_extension": ".py",
   "mimetype": "text/x-python",
   "name": "python",
   "nbconvert_exporter": "python",
   "pygments_lexer": "ipython3",
   "version": "3.5.2"
  }
 },
 "nbformat": 4,
 "nbformat_minor": 2
}
