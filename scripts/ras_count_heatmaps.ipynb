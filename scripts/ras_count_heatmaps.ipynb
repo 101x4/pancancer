{
 "cells": [
  {
   "cell_type": "code",
   "execution_count": 1,
   "metadata": {},
   "outputs": [],
   "source": [
    "import os\n",
    "import sys\n",
    "import pandas as pd\n",
    "\n",
    "import matplotlib.pyplot as plt\n",
    "import seaborn as sns"
   ]
  },
  {
   "cell_type": "code",
   "execution_count": 2,
   "metadata": {},
   "outputs": [],
   "source": [
    "# Get the current working directory\n",
    "cwd = os.getcwd()\n",
    "\n",
    "# Ensure that the path is starting in the scripts directory\n",
    "if not cwd.split('/')[-1] == 'scripts':\n",
    "    os.chdir(os.path.join(cwd, 'scripts'))"
   ]
  },
  {
   "cell_type": "code",
   "execution_count": 3,
   "metadata": {},
   "outputs": [],
   "source": [
    "%matplotlib inline\n",
    "plt.style.use('seaborn-notebook')"
   ]
  },
  {
   "cell_type": "code",
   "execution_count": 4,
   "metadata": {},
   "outputs": [],
   "source": [
    "# Load Datasets\n",
    "mut_file = os.path.join('..', 'data', 'pancan_mutation_freeze.tsv.gz')\n",
    "sample_freeze_file = os.path.join('..', 'data', 'sample_freeze.tsv')\n",
    "copy_loss_file = os.path.join('..', 'data', 'copy_number_loss_status.tsv.gz')\n",
    "copy_gain_file = os.path.join('..', 'data', 'copy_number_gain_status.tsv.gz')\n",
    "cancer_genes_file = os.path.join('..', 'data', 'vogelstein_cancergenes.tsv')\n",
    "\n",
    "mutation_df = pd.read_table(mut_file, index_col=0)\n",
    "sample_freeze = pd.read_table(sample_freeze_file, index_col=0)\n",
    "copy_loss_df = pd.read_table(copy_loss_file, index_col=0)\n",
    "copy_gain_df = pd.read_table(copy_gain_file, index_col=0)\n",
    "cancer_genes_df = pd.read_table(cancer_genes_file)"
   ]
  },
  {
   "cell_type": "code",
   "execution_count": 5,
   "metadata": {},
   "outputs": [],
   "source": [
    "# Load Ras Pathway Genes\n",
    "results_path= os.path.join('..', 'classifiers', 'RAS')\n",
    "\n",
    "# Load Ras Pathway Genes\n",
    "genes_file = os.path.join('..', 'data', 'ras_genes.csv')\n",
    "genes_df = pd.read_table(genes_file)"
   ]
  },
  {
   "cell_type": "code",
   "execution_count": 6,
   "metadata": {},
   "outputs": [
    {
     "data": {
      "text/html": [
       "<div>\n",
       "<style scoped>\n",
       "    .dataframe tbody tr th:only-of-type {\n",
       "        vertical-align: middle;\n",
       "    }\n",
       "\n",
       "    .dataframe tbody tr th {\n",
       "        vertical-align: top;\n",
       "    }\n",
       "\n",
       "    .dataframe thead th {\n",
       "        text-align: right;\n",
       "    }\n",
       "</style>\n",
       "<table border=\"1\" class=\"dataframe\">\n",
       "  <thead>\n",
       "    <tr style=\"text-align: right;\">\n",
       "      <th></th>\n",
       "      <th>genes</th>\n",
       "      <th>og_tsg</th>\n",
       "    </tr>\n",
       "  </thead>\n",
       "  <tbody>\n",
       "    <tr>\n",
       "      <th>0</th>\n",
       "      <td>ALK</td>\n",
       "      <td>OG</td>\n",
       "    </tr>\n",
       "    <tr>\n",
       "      <th>1</th>\n",
       "      <td>ARAF</td>\n",
       "      <td>OG</td>\n",
       "    </tr>\n",
       "    <tr>\n",
       "      <th>2</th>\n",
       "      <td>BRAF</td>\n",
       "      <td>OG</td>\n",
       "    </tr>\n",
       "    <tr>\n",
       "      <th>3</th>\n",
       "      <td>EGFR</td>\n",
       "      <td>OG</td>\n",
       "    </tr>\n",
       "    <tr>\n",
       "      <th>4</th>\n",
       "      <td>ERBB2</td>\n",
       "      <td>OG</td>\n",
       "    </tr>\n",
       "  </tbody>\n",
       "</table>\n",
       "</div>"
      ],
      "text/plain": [
       "   genes og_tsg\n",
       "0    ALK     OG\n",
       "1   ARAF     OG\n",
       "2   BRAF     OG\n",
       "3   EGFR     OG\n",
       "4  ERBB2     OG"
      ]
     },
     "execution_count": 6,
     "metadata": {},
     "output_type": "execute_result"
    }
   ],
   "source": [
    "genes_df.head()"
   ]
  },
  {
   "cell_type": "code",
   "execution_count": 7,
   "metadata": {},
   "outputs": [],
   "source": [
    "# Subset mutation data\n",
    "mutation_sub_df = mutation_df.loc[:, genes_df['genes']]"
   ]
  },
  {
   "cell_type": "code",
   "execution_count": 8,
   "metadata": {},
   "outputs": [],
   "source": [
    "# Find if the input genes are in this master list\n",
    "genes_sub = cancer_genes_df[cancer_genes_df['Gene Symbol'].isin(genes_df['genes'])]"
   ]
  },
  {
   "cell_type": "code",
   "execution_count": 9,
   "metadata": {},
   "outputs": [],
   "source": [
    "# Add status to the Y matrix depending on if the gene is a tumor suppressor\n",
    "# or an oncogene. An oncogene can be activated with copy number gains, but\n",
    "# a tumor suppressor is inactivated with copy number loss\n",
    "tumor_suppressor = genes_df[genes_df['og_tsg'] == 'TSG']\n",
    "oncogene = genes_df[genes_df['og_tsg'] == 'OG']\n",
    "\n",
    "# Subset copy number information\n",
    "copy_loss_sub_df = copy_loss_df[tumor_suppressor['genes']]\n",
    "copy_gain_sub_df = copy_gain_df[oncogene['genes']]"
   ]
  },
  {
   "cell_type": "markdown",
   "metadata": {},
   "source": [
    "## Output Mutation, Copy Number, and Total Heatmap (Gene by Cancer-type)"
   ]
  },
  {
   "cell_type": "code",
   "execution_count": 10,
   "metadata": {},
   "outputs": [],
   "source": [
    "mutation_sub_total_df = mutation_sub_df.assign(Total=mutation_sub_df.max(axis=1))\n",
    "mut_disease_df = mutation_sub_total_df.merge(sample_freeze, left_index=True,\n",
    "                                             right_on='SAMPLE_BARCODE')\n",
    "mut_heatmap_df = mut_disease_df.groupby('DISEASE').mean()"
   ]
  },
  {
   "cell_type": "code",
   "execution_count": 11,
   "metadata": {},
   "outputs": [],
   "source": [
    "gene_avg = mut_disease_df.mean()\n",
    "gene_avg.name = 'Total'"
   ]
  },
  {
   "cell_type": "code",
   "execution_count": 12,
   "metadata": {},
   "outputs": [],
   "source": [
    "mut_heatmap_df = mut_heatmap_df.append(gene_avg)"
   ]
  },
  {
   "cell_type": "code",
   "execution_count": 13,
   "metadata": {},
   "outputs": [
    {
     "data": {
      "image/png": "[encoded data removed]",
      "text/plain": [
       "<Figure size 576x396 with 2 Axes>"
      ]
     },
     "metadata": {},
     "output_type": "display_data"
    }
   ],
   "source": [
    "sns.set_style(\"whitegrid\")\n",
    "sns.heatmap(mut_heatmap_df, linewidths=0.2, linecolor='black', \n",
    "            cmap='Blues_r', square=True, cbar=True)\n",
    "plt.ylabel('Cancer Types', fontsize=16)\n",
    "plt.xlabel('Ras Pathway Genes', fontsize=16)\n",
    "plt.savefig(os.path.join(results_path, 'mut_df.pdf'))"
   ]
  },
  {
   "cell_type": "code",
   "execution_count": 14,
   "metadata": {},
   "outputs": [],
   "source": [
    "copy_df = pd.concat([copy_gain_sub_df, copy_loss_sub_df], axis=1)\n",
    "copy_total_df = copy_df.assign(Total=copy_df.max(axis=1))\n",
    "copy_disease_df = copy_total_df.merge(sample_freeze, left_index=True,\n",
    "                                      right_on='SAMPLE_BARCODE')\n",
    "copy_heatmap_df = copy_disease_df.groupby('DISEASE').mean()"
   ]
  },
  {
   "cell_type": "code",
   "execution_count": 15,
   "metadata": {},
   "outputs": [],
   "source": [
    "copy_avg = copy_disease_df.mean()\n",
    "copy_avg.name = 'Total'"
   ]
  },
  {
   "cell_type": "code",
   "execution_count": 16,
   "metadata": {},
   "outputs": [],
   "source": [
    "copy_heatmap_df = copy_heatmap_df.append(copy_avg)"
   ]
  },
  {
   "cell_type": "code",
   "execution_count": 17,
   "metadata": {},
   "outputs": [
    {
     "data": {
      "image/png": "[encoded data removed]",
      "text/plain": [
       "<Figure size 576x396 with 2 Axes>"
      ]
     },
     "metadata": {},
     "output_type": "display_data"
    }
   ],
   "source": [
    "sns.set_style(\"whitegrid\")\n",
    "sns.heatmap(copy_heatmap_df, linewidths=0.2, linecolor='black', \n",
    "            cmap='Blues_r', square=True)\n",
    "plt.ylabel('Cancer Types', fontsize=16)\n",
    "plt.xlabel('Ras Pathway Genes', fontsize=16)\n",
    "plt.savefig(os.path.join(results_path, 'copy_df.pdf'))"
   ]
  },
  {
   "cell_type": "code",
   "execution_count": 18,
   "metadata": {},
   "outputs": [],
   "source": [
    "# Combined heatmap\n",
    "comb_heat = mutation_sub_df + copy_df\n",
    "comb_heat[comb_heat == 2] = 1  # Replace duplicates with just one"
   ]
  },
  {
   "cell_type": "code",
   "execution_count": 19,
   "metadata": {},
   "outputs": [],
   "source": [
    "comb_heat_df = comb_heat.merge(sample_freeze, left_index=True, right_on='SAMPLE_BARCODE')\n",
    "comb_heat_total_df = comb_heat_df.assign(Total=comb_heat_df.max(axis=1))\n",
    "comb_heatmap_df = comb_heat_total_df.groupby('DISEASE').mean()"
   ]
  },
  {
   "cell_type": "code",
   "execution_count": 20,
   "metadata": {},
   "outputs": [],
   "source": [
    "comb_avg = comb_heat_total_df.mean()\n",
    "comb_avg.name = 'Total'"
   ]
  },
  {
   "cell_type": "code",
   "execution_count": 21,
   "metadata": {},
   "outputs": [],
   "source": [
    "comb_heatmap_plot = comb_heatmap_df.append(comb_avg)"
   ]
  },
  {
   "cell_type": "code",
   "execution_count": 22,
   "metadata": {},
   "outputs": [
    {
     "data": {
      "image/png": "[encoded data removed]",
      "text/plain": [
       "<Figure size 576x396 with 2 Axes>"
      ]
     },
     "metadata": {},
     "output_type": "display_data"
    }
   ],
   "source": [
    "sns.set_style(\"whitegrid\")\n",
    "sns.heatmap(comb_heatmap_plot, linewidths=0.2, linecolor='black', \n",
    "            cmap='Blues_r', square=True)\n",
    "plt.ylabel('Cancer Types', fontsize=16)\n",
    "plt.xlabel('Ras Pathway Genes', fontsize=16)\n",
    "plt.tight_layout()\n",
    "plt.savefig(os.path.join(results_path, 'combined_df.pdf'))"
   ]
  },
  {
   "cell_type": "markdown",
   "metadata": {},
   "source": [
    "## Generating Pathway Mapper Text Files"
   ]
  },
  {
   "cell_type": "code",
   "execution_count": 23,
   "metadata": {},
   "outputs": [],
   "source": [
    "summary_score_df = (\n",
    "    pd.DataFrame(\n",
    "        [mut_heatmap_df.loc['Total', :], copy_heatmap_df.loc['Total', :]]\n",
    "    )\n",
    "    .transpose()\n",
    ")\n",
    "summary_score_df.columns = ['mutation', 'copy_number']\n",
    "summary_score_df = summary_score_df * 100\n",
    "summary_score_df = summary_score_df.round(decimals = 1)"
   ]
  },
  {
   "cell_type": "code",
   "execution_count": 24,
   "metadata": {},
   "outputs": [],
   "source": [
    "# Create negative percentages for tumor suppressors in the Ras Pathway\n",
    "tum_sup_mult = pd.Series([1] * 34 + [-1] * 4 + [1])\n",
    "tum_sup_mult.index = summary_score_df.index"
   ]
  },
  {
   "cell_type": "code",
   "execution_count": 25,
   "metadata": {},
   "outputs": [],
   "source": [
    "summary_score_df = summary_score_df.mul(tum_sup_mult, axis=0)\n",
    "pathway_mapper_file = os.path.join(results_path, 'tables',\n",
    "                                   'pathwaymapper_percentages.txt')\n",
    "summary_score_df.to_csv(pathway_mapper_file, sep='\\t')"
   ]
  },
  {
   "cell_type": "markdown",
   "metadata": {},
   "source": [
    "## Output number of Ras events per sample"
   ]
  },
  {
   "cell_type": "code",
   "execution_count": 26,
   "metadata": {},
   "outputs": [
    {
     "data": {
      "text/html": [
       "<div>\n",
       "<style scoped>\n",
       "    .dataframe tbody tr th:only-of-type {\n",
       "        vertical-align: middle;\n",
       "    }\n",
       "\n",
       "    .dataframe tbody tr th {\n",
       "        vertical-align: top;\n",
       "    }\n",
       "\n",
       "    .dataframe thead th {\n",
       "        text-align: right;\n",
       "    }\n",
       "</style>\n",
       "<table border=\"1\" class=\"dataframe\">\n",
       "  <thead>\n",
       "    <tr style=\"text-align: right;\">\n",
       "      <th></th>\n",
       "      <th>SAMPLE_BARCODE</th>\n",
       "      <th>log10_mut</th>\n",
       "      <th>total_status</th>\n",
       "      <th>weight</th>\n",
       "      <th>NRAS</th>\n",
       "      <th>KRAS</th>\n",
       "      <th>HRAS</th>\n",
       "      <th>HRAS_gain</th>\n",
       "      <th>KRAS_gain</th>\n",
       "      <th>NRAS_gain</th>\n",
       "      <th>PATIENT_BARCODE</th>\n",
       "      <th>DISEASE</th>\n",
       "      <th>SUBTYPE</th>\n",
       "      <th>hypermutated</th>\n",
       "      <th>include</th>\n",
       "    </tr>\n",
       "  </thead>\n",
       "  <tbody>\n",
       "    <tr>\n",
       "      <th>0</th>\n",
       "      <td>TCGA-02-0047-01</td>\n",
       "      <td>1.812913</td>\n",
       "      <td>0</td>\n",
       "      <td>0.357117</td>\n",
       "      <td>0</td>\n",
       "      <td>0</td>\n",
       "      <td>0</td>\n",
       "      <td>0</td>\n",
       "      <td>0</td>\n",
       "      <td>0</td>\n",
       "      <td>TCGA-02-0047</td>\n",
       "      <td>GBM</td>\n",
       "      <td>IDHwt</td>\n",
       "      <td>0</td>\n",
       "      <td>0</td>\n",
       "    </tr>\n",
       "    <tr>\n",
       "      <th>1</th>\n",
       "      <td>TCGA-02-0055-01</td>\n",
       "      <td>1.707570</td>\n",
       "      <td>0</td>\n",
       "      <td>0.530723</td>\n",
       "      <td>0</td>\n",
       "      <td>0</td>\n",
       "      <td>0</td>\n",
       "      <td>0</td>\n",
       "      <td>0</td>\n",
       "      <td>0</td>\n",
       "      <td>TCGA-02-0055</td>\n",
       "      <td>GBM</td>\n",
       "      <td>IDHwt</td>\n",
       "      <td>0</td>\n",
       "      <td>0</td>\n",
       "    </tr>\n",
       "    <tr>\n",
       "      <th>2</th>\n",
       "      <td>TCGA-02-2483-01</td>\n",
       "      <td>1.662758</td>\n",
       "      <td>0</td>\n",
       "      <td>0.642091</td>\n",
       "      <td>0</td>\n",
       "      <td>0</td>\n",
       "      <td>0</td>\n",
       "      <td>0</td>\n",
       "      <td>0</td>\n",
       "      <td>0</td>\n",
       "      <td>TCGA-02-2483</td>\n",
       "      <td>GBM</td>\n",
       "      <td>IDHmut-non-codel</td>\n",
       "      <td>0</td>\n",
       "      <td>0</td>\n",
       "    </tr>\n",
       "    <tr>\n",
       "      <th>3</th>\n",
       "      <td>TCGA-02-2485-01</td>\n",
       "      <td>1.748188</td>\n",
       "      <td>0</td>\n",
       "      <td>0.467431</td>\n",
       "      <td>0</td>\n",
       "      <td>0</td>\n",
       "      <td>0</td>\n",
       "      <td>0</td>\n",
       "      <td>0</td>\n",
       "      <td>0</td>\n",
       "      <td>TCGA-02-2485</td>\n",
       "      <td>GBM</td>\n",
       "      <td>IDHwt</td>\n",
       "      <td>0</td>\n",
       "      <td>0</td>\n",
       "    </tr>\n",
       "    <tr>\n",
       "      <th>4</th>\n",
       "      <td>TCGA-02-2486-01</td>\n",
       "      <td>1.755875</td>\n",
       "      <td>0</td>\n",
       "      <td>0.361267</td>\n",
       "      <td>0</td>\n",
       "      <td>0</td>\n",
       "      <td>0</td>\n",
       "      <td>0</td>\n",
       "      <td>0</td>\n",
       "      <td>0</td>\n",
       "      <td>TCGA-02-2486</td>\n",
       "      <td>GBM</td>\n",
       "      <td>IDHwt</td>\n",
       "      <td>0</td>\n",
       "      <td>0</td>\n",
       "    </tr>\n",
       "  </tbody>\n",
       "</table>\n",
       "</div>"
      ],
      "text/plain": [
       "    SAMPLE_BARCODE  log10_mut  total_status    weight  NRAS  KRAS  HRAS  \\\n",
       "0  TCGA-02-0047-01   1.812913             0  0.357117     0     0     0   \n",
       "1  TCGA-02-0055-01   1.707570             0  0.530723     0     0     0   \n",
       "2  TCGA-02-2483-01   1.662758             0  0.642091     0     0     0   \n",
       "3  TCGA-02-2485-01   1.748188             0  0.467431     0     0     0   \n",
       "4  TCGA-02-2486-01   1.755875             0  0.361267     0     0     0   \n",
       "\n",
       "   HRAS_gain  KRAS_gain  NRAS_gain PATIENT_BARCODE DISEASE           SUBTYPE  \\\n",
       "0          0          0          0    TCGA-02-0047     GBM             IDHwt   \n",
       "1          0          0          0    TCGA-02-0055     GBM             IDHwt   \n",
       "2          0          0          0    TCGA-02-2483     GBM  IDHmut-non-codel   \n",
       "3          0          0          0    TCGA-02-2485     GBM             IDHwt   \n",
       "4          0          0          0    TCGA-02-2486     GBM             IDHwt   \n",
       "\n",
       "   hypermutated  include  \n",
       "0             0        0  \n",
       "1             0        0  \n",
       "2             0        0  \n",
       "3             0        0  \n",
       "4             0        0  "
      ]
     },
     "execution_count": 26,
     "metadata": {},
     "output_type": "execute_result"
    }
   ],
   "source": [
    "decision_file = os.path.join(results_path, 'classifier_decisions.tsv')\n",
    "decisions_df = pd.read_table(decision_file)\n",
    "decisions_df.head()"
   ]
  },
  {
   "cell_type": "code",
   "execution_count": 27,
   "metadata": {},
   "outputs": [],
   "source": [
    "other_ras_df = mutation_sub_df.drop(['KRAS', 'HRAS', 'NRAS'], axis=1)\n",
    "other_ras_copy_df = copy_df.drop(['KRAS', 'HRAS', 'NRAS'], axis=1)\n",
    "other_ras_all_df = comb_heat_df.drop(['KRAS', 'HRAS', 'NRAS'], axis=1)"
   ]
  },
  {
   "cell_type": "code",
   "execution_count": 28,
   "metadata": {},
   "outputs": [],
   "source": [
    "total_ras_mutations = pd.DataFrame(other_ras_df.sum(axis=1), columns=['mutation_count'])\n",
    "total_ras_copy_events = pd.DataFrame(other_ras_copy_df.sum(axis=1), columns=['copy_count'])\n",
    "total_ras_all = pd.DataFrame(other_ras_all_df.sum(axis=1), columns=['all_count'])\n",
    "total_ras_all.index = comb_heat_df['SAMPLE_BARCODE']"
   ]
  },
  {
   "cell_type": "code",
   "execution_count": 29,
   "metadata": {},
   "outputs": [
    {
     "data": {
      "text/html": [
       "<div>\n",
       "<style scoped>\n",
       "    .dataframe tbody tr th:only-of-type {\n",
       "        vertical-align: middle;\n",
       "    }\n",
       "\n",
       "    .dataframe tbody tr th {\n",
       "        vertical-align: top;\n",
       "    }\n",
       "\n",
       "    .dataframe thead th {\n",
       "        text-align: right;\n",
       "    }\n",
       "</style>\n",
       "<table border=\"1\" class=\"dataframe\">\n",
       "  <thead>\n",
       "    <tr style=\"text-align: right;\">\n",
       "      <th></th>\n",
       "      <th>SAMPLE_BARCODE</th>\n",
       "      <th>DISEASE</th>\n",
       "      <th>weight</th>\n",
       "      <th>mutation_count</th>\n",
       "    </tr>\n",
       "  </thead>\n",
       "  <tbody>\n",
       "    <tr>\n",
       "      <th>0</th>\n",
       "      <td>TCGA-02-0047-01</td>\n",
       "      <td>GBM</td>\n",
       "      <td>0.357117</td>\n",
       "      <td>0</td>\n",
       "    </tr>\n",
       "    <tr>\n",
       "      <th>1</th>\n",
       "      <td>TCGA-02-0055-01</td>\n",
       "      <td>GBM</td>\n",
       "      <td>0.530723</td>\n",
       "      <td>0</td>\n",
       "    </tr>\n",
       "    <tr>\n",
       "      <th>2</th>\n",
       "      <td>TCGA-02-2483-01</td>\n",
       "      <td>GBM</td>\n",
       "      <td>0.642091</td>\n",
       "      <td>0</td>\n",
       "    </tr>\n",
       "    <tr>\n",
       "      <th>3</th>\n",
       "      <td>TCGA-02-2485-01</td>\n",
       "      <td>GBM</td>\n",
       "      <td>0.467431</td>\n",
       "      <td>1</td>\n",
       "    </tr>\n",
       "    <tr>\n",
       "      <th>4</th>\n",
       "      <td>TCGA-02-2486-01</td>\n",
       "      <td>GBM</td>\n",
       "      <td>0.361267</td>\n",
       "      <td>0</td>\n",
       "    </tr>\n",
       "  </tbody>\n",
       "</table>\n",
       "</div>"
      ],
      "text/plain": [
       "    SAMPLE_BARCODE DISEASE    weight mutation_count\n",
       "0  TCGA-02-0047-01     GBM  0.357117              0\n",
       "1  TCGA-02-0055-01     GBM  0.530723              0\n",
       "2  TCGA-02-2483-01     GBM  0.642091              0\n",
       "3  TCGA-02-2485-01     GBM  0.467431              1\n",
       "4  TCGA-02-2486-01     GBM  0.361267              0"
      ]
     },
     "execution_count": 29,
     "metadata": {},
     "output_type": "execute_result"
    }
   ],
   "source": [
    "# Define output summary of mutation, copy, and total counts per sample by Ras pathway\n",
    "count_summary = (\n",
    "    decisions_df[['SAMPLE_BARCODE', 'DISEASE', 'weight']]\n",
    "    .merge(total_ras_mutations, left_on='SAMPLE_BARCODE', right_index=True)\n",
    "    )\n",
    "hyper_samples = decisions_df[decisions_df['hypermutated'] == 1]['SAMPLE_BARCODE']\n",
    "count_summary.loc[count_summary['SAMPLE_BARCODE'].isin(hyper_samples),\n",
    "                  'mutation_count'] = 'hyper'\n",
    "count_summary.head()"
   ]
  },
  {
   "cell_type": "code",
   "execution_count": 30,
   "metadata": {},
   "outputs": [
    {
     "data": {
      "text/plain": [
       "0        5649\n",
       "1        2164\n",
       "2         570\n",
       "hyper     377\n",
       "3         192\n",
       "4          81\n",
       "5          27\n",
       "6          10\n",
       "8           2\n",
       "7           2\n",
       "Name: mutation_count, dtype: int64"
      ]
     },
     "execution_count": 30,
     "metadata": {},
     "output_type": "execute_result"
    }
   ],
   "source": [
    "count_summary['mutation_count'].value_counts()"
   ]
  },
  {
   "cell_type": "code",
   "execution_count": 31,
   "metadata": {},
   "outputs": [
    {
     "data": {
      "text/html": [
       "<div>\n",
       "<style scoped>\n",
       "    .dataframe tbody tr th:only-of-type {\n",
       "        vertical-align: middle;\n",
       "    }\n",
       "\n",
       "    .dataframe tbody tr th {\n",
       "        vertical-align: top;\n",
       "    }\n",
       "\n",
       "    .dataframe thead th {\n",
       "        text-align: right;\n",
       "    }\n",
       "</style>\n",
       "<table border=\"1\" class=\"dataframe\">\n",
       "  <thead>\n",
       "    <tr style=\"text-align: right;\">\n",
       "      <th></th>\n",
       "      <th>SAMPLE_BARCODE</th>\n",
       "      <th>total_status</th>\n",
       "      <th>all_count</th>\n",
       "      <th>copy_count</th>\n",
       "      <th>DISEASE</th>\n",
       "      <th>weight</th>\n",
       "      <th>mutation_count</th>\n",
       "    </tr>\n",
       "  </thead>\n",
       "  <tbody>\n",
       "    <tr>\n",
       "      <th>0</th>\n",
       "      <td>TCGA-02-0047-01</td>\n",
       "      <td>0</td>\n",
       "      <td>0</td>\n",
       "      <td>0</td>\n",
       "      <td>GBM</td>\n",
       "      <td>0.357117</td>\n",
       "      <td>0</td>\n",
       "    </tr>\n",
       "    <tr>\n",
       "      <th>1</th>\n",
       "      <td>TCGA-02-0055-01</td>\n",
       "      <td>0</td>\n",
       "      <td>1</td>\n",
       "      <td>1</td>\n",
       "      <td>GBM</td>\n",
       "      <td>0.530723</td>\n",
       "      <td>0</td>\n",
       "    </tr>\n",
       "    <tr>\n",
       "      <th>2</th>\n",
       "      <td>TCGA-02-2483-01</td>\n",
       "      <td>0</td>\n",
       "      <td>1</td>\n",
       "      <td>1</td>\n",
       "      <td>GBM</td>\n",
       "      <td>0.642091</td>\n",
       "      <td>0</td>\n",
       "    </tr>\n",
       "    <tr>\n",
       "      <th>3</th>\n",
       "      <td>TCGA-02-2485-01</td>\n",
       "      <td>0</td>\n",
       "      <td>3</td>\n",
       "      <td>3</td>\n",
       "      <td>GBM</td>\n",
       "      <td>0.467431</td>\n",
       "      <td>1</td>\n",
       "    </tr>\n",
       "    <tr>\n",
       "      <th>4</th>\n",
       "      <td>TCGA-02-2486-01</td>\n",
       "      <td>0</td>\n",
       "      <td>0</td>\n",
       "      <td>0</td>\n",
       "      <td>GBM</td>\n",
       "      <td>0.361267</td>\n",
       "      <td>0</td>\n",
       "    </tr>\n",
       "  </tbody>\n",
       "</table>\n",
       "</div>"
      ],
      "text/plain": [
       "    SAMPLE_BARCODE  total_status  all_count  copy_count DISEASE    weight  \\\n",
       "0  TCGA-02-0047-01             0          0           0     GBM  0.357117   \n",
       "1  TCGA-02-0055-01             0          1           1     GBM  0.530723   \n",
       "2  TCGA-02-2483-01             0          1           1     GBM  0.642091   \n",
       "3  TCGA-02-2485-01             0          3           3     GBM  0.467431   \n",
       "4  TCGA-02-2486-01             0          0           0     GBM  0.361267   \n",
       "\n",
       "  mutation_count  \n",
       "0              0  \n",
       "1              0  \n",
       "2              0  \n",
       "3              1  \n",
       "4              0  "
      ]
     },
     "execution_count": 31,
     "metadata": {},
     "output_type": "execute_result"
    }
   ],
   "source": [
    "count_summary = total_ras_copy_events.merge(count_summary, left_index=True,\n",
    "                                            right_on='SAMPLE_BARCODE')\n",
    "count_summary = total_ras_all.merge(count_summary, left_index=True,\n",
    "                                    right_on='SAMPLE_BARCODE')\n",
    "count_summary = (\n",
    "    decisions_df[['SAMPLE_BARCODE', 'total_status']]\n",
    "    .merge(count_summary, left_on='SAMPLE_BARCODE', right_on='SAMPLE_BARCODE')\n",
    "    )\n",
    "count_summary.head()"
   ]
  },
  {
   "cell_type": "code",
   "execution_count": 32,
   "metadata": {},
   "outputs": [],
   "source": [
    "count_summary_file = os.path.join(results_path, 'tables',\n",
    "                                  'ras_events_per_sample.tsv')\n",
    "count_summary.to_csv(count_summary_file, sep='\\t', index=False)"
   ]
  }
 ],
 "metadata": {
  "kernelspec": {
   "display_name": "Python (pancancer-classifier)",
   "language": "python",
   "name": "pancancer-classifier"
  },
  "language_info": {
   "codemirror_mode": {
    "name": "ipython",
    "version": 3
   },
   "file_extension": ".py",
   "mimetype": "text/x-python",
   "name": "python",
   "nbconvert_exporter": "python",
   "pygments_lexer": "ipython3",
   "version": "3.6.5"
  }
 },
 "nbformat": 4,
 "nbformat_minor": 1
}
