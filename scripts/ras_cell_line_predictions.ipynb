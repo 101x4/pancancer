{
 "cells": [
  {
   "cell_type": "markdown",
   "metadata": {},
   "source": [
    "# Cell Line Analysis\n",
    "\n",
    "We sought to validate the Ras classifier trained on TCGA pan-cancer data by generating predictions on cell line data. A good classifier should generalize to predicting Ras status in other samples. We apply the classifier on two datasets:\n",
    "\n",
    "1. [GSE94937](https://www.ncbi.nlm.nih.gov/geo/query/acc.cgi?acc=GSE94937) from [Kim et al. 2017](http://doi.org/10.1016/j.cels.2017.08.002)\n",
    "  * Illumina NextSeq 5000 of Human Small Airway Epithelial Cells expressing KRAS G12V and wild-type KRAS\n",
    "2. [Cancer Cell Line Encyclopedia (CCLE)](https://software.broadinstitute.org/software/cprg/?q=node/11) Gene Expression data.\n",
    "  * 737 cell lines with matching gene expression and mutation calls\n",
    "  * Pharmacologic profiling of 24 drugs over 504 cell lines\n",
    "  \n",
    "These data were accessed via publicly available resources with help from links in the [UCSD-CCAL Onco-GPS github repository](https://github.com/UCSD-CCAL/onco-gps-paper-analysis)"
   ]
  },
  {
   "cell_type": "code",
   "execution_count": 1,
   "metadata": {
    "collapsed": false
   },
   "outputs": [
    {
     "name": "stderr",
     "output_type": "stream",
     "text": [
      "/home/gway/anaconda3/lib/python3.5/site-packages/statsmodels/compat/pandas.py:56: FutureWarning: The pandas.core.datetools module is deprecated and will be removed in a future version. Please use the pandas.tseries module instead.\n",
      "  from pandas.core import datetools\n"
     ]
    }
   ],
   "source": [
    "import os\n",
    "import numpy as np\n",
    "import pandas as pd\n",
    "from decimal import Decimal\n",
    "from scipy.stats import ttest_ind\n",
    "from sklearn.preprocessing import StandardScaler\n",
    "\n",
    "import matplotlib.pyplot as plt\n",
    "import seaborn as sns\n",
    "import plotnine as gg"
   ]
  },
  {
   "cell_type": "code",
   "execution_count": 2,
   "metadata": {
    "collapsed": true
   },
   "outputs": [],
   "source": [
    "%matplotlib inline"
   ]
  },
  {
   "cell_type": "markdown",
   "metadata": {},
   "source": [
    "## Load Ras Classifier Coefficients"
   ]
  },
  {
   "cell_type": "code",
   "execution_count": 3,
   "metadata": {
    "collapsed": false
   },
   "outputs": [
    {
     "name": "stdout",
     "output_type": "stream",
     "text": [
      "(185, 3)\n"
     ]
    },
    {
     "data": {
      "text/html": [
       "<div>\n",
       "<style>\n",
       "    .dataframe thead tr:only-child th {\n",
       "        text-align: right;\n",
       "    }\n",
       "\n",
       "    .dataframe thead th {\n",
       "        text-align: left;\n",
       "    }\n",
       "\n",
       "    .dataframe tbody tr th {\n",
       "        vertical-align: top;\n",
       "    }\n",
       "</style>\n",
       "<table border=\"1\" class=\"dataframe\">\n",
       "  <thead>\n",
       "    <tr style=\"text-align: right;\">\n",
       "      <th></th>\n",
       "      <th>feature</th>\n",
       "      <th>weight</th>\n",
       "      <th>abs</th>\n",
       "    </tr>\n",
       "  </thead>\n",
       "  <tbody>\n",
       "    <tr>\n",
       "      <th>6702</th>\n",
       "      <td>PBX3</td>\n",
       "      <td>0.139761</td>\n",
       "      <td>0.139761</td>\n",
       "    </tr>\n",
       "    <tr>\n",
       "      <th>4592</th>\n",
       "      <td>SPRY2</td>\n",
       "      <td>0.123713</td>\n",
       "      <td>0.123713</td>\n",
       "    </tr>\n",
       "    <tr>\n",
       "      <th>6708</th>\n",
       "      <td>C15orf52</td>\n",
       "      <td>0.106100</td>\n",
       "      <td>0.106100</td>\n",
       "    </tr>\n",
       "    <tr>\n",
       "      <th>2882</th>\n",
       "      <td>PPP1R3B</td>\n",
       "      <td>0.104700</td>\n",
       "      <td>0.104700</td>\n",
       "    </tr>\n",
       "    <tr>\n",
       "      <th>1520</th>\n",
       "      <td>MLPH</td>\n",
       "      <td>0.102069</td>\n",
       "      <td>0.102069</td>\n",
       "    </tr>\n",
       "    <tr>\n",
       "      <th>1073</th>\n",
       "      <td>ERRFI1</td>\n",
       "      <td>0.099347</td>\n",
       "      <td>0.099347</td>\n",
       "    </tr>\n",
       "    <tr>\n",
       "      <th>4485</th>\n",
       "      <td>CMAS</td>\n",
       "      <td>0.090213</td>\n",
       "      <td>0.090213</td>\n",
       "    </tr>\n",
       "    <tr>\n",
       "      <th>3314</th>\n",
       "      <td>MRPS35</td>\n",
       "      <td>0.089351</td>\n",
       "      <td>0.089351</td>\n",
       "    </tr>\n",
       "    <tr>\n",
       "      <th>6310</th>\n",
       "      <td>CDK13</td>\n",
       "      <td>-0.083915</td>\n",
       "      <td>0.083915</td>\n",
       "    </tr>\n",
       "    <tr>\n",
       "      <th>3589</th>\n",
       "      <td>PDLIM4</td>\n",
       "      <td>-0.082386</td>\n",
       "      <td>0.082386</td>\n",
       "    </tr>\n",
       "  </tbody>\n",
       "</table>\n",
       "</div>"
      ],
      "text/plain": [
       "       feature    weight       abs\n",
       "6702      PBX3  0.139761  0.139761\n",
       "4592     SPRY2  0.123713  0.123713\n",
       "6708  C15orf52  0.106100  0.106100\n",
       "2882   PPP1R3B  0.104700  0.104700\n",
       "1520      MLPH  0.102069  0.102069\n",
       "1073    ERRFI1  0.099347  0.099347\n",
       "4485      CMAS  0.090213  0.090213\n",
       "3314    MRPS35  0.089351  0.089351\n",
       "6310     CDK13 -0.083915  0.083915\n",
       "3589    PDLIM4 -0.082386  0.082386"
      ]
     },
     "execution_count": 3,
     "metadata": {},
     "output_type": "execute_result"
    }
   ],
   "source": [
    "classifier_file = os.path.join('..', 'classifiers', 'RAS', 'classifier_summary.txt')\n",
    "with open(classifier_file) as class_fh:\n",
    "    for line in class_fh:\n",
    "        line = line.strip().split('\\t')\n",
    "        if line[0] == 'Coefficients:':\n",
    "            all_coef_df = pd.read_table(os.path.join('..', line[1]), index_col=0)\n",
    "\n",
    "# Only non-zero coefficients contribute to model performance\n",
    "coef_df = all_coef_df[all_coef_df['abs'] > 0]\n",
    "print(coef_df.shape)\n",
    "coef_df.head(10)"
   ]
  },
  {
   "cell_type": "markdown",
   "metadata": {},
   "source": [
    "## Part 1: GSE94937 KRAS Mutant Cell Line Analysis"
   ]
  },
  {
   "cell_type": "code",
   "execution_count": 4,
   "metadata": {
    "collapsed": false
   },
   "outputs": [
    {
     "name": "stdout",
     "output_type": "stream",
     "text": [
      "(38293, 11)\n"
     ]
    },
    {
     "data": {
      "text/html": [
       "<div>\n",
       "<style>\n",
       "    .dataframe thead tr:only-child th {\n",
       "        text-align: right;\n",
       "    }\n",
       "\n",
       "    .dataframe thead th {\n",
       "        text-align: left;\n",
       "    }\n",
       "\n",
       "    .dataframe tbody tr th {\n",
       "        vertical-align: top;\n",
       "    }\n",
       "</style>\n",
       "<table border=\"1\" class=\"dataframe\">\n",
       "  <thead>\n",
       "    <tr style=\"text-align: right;\">\n",
       "      <th></th>\n",
       "      <th>Description</th>\n",
       "      <th>SLK1_1</th>\n",
       "      <th>SLK2_1</th>\n",
       "      <th>SLK1PU_1</th>\n",
       "      <th>SLK2PU_1</th>\n",
       "      <th>SLKP1_1</th>\n",
       "      <th>SLKP2_1</th>\n",
       "      <th>SLG1_1</th>\n",
       "      <th>SLG2_1</th>\n",
       "      <th>SLGP1_1</th>\n",
       "      <th>SLGP2_1</th>\n",
       "    </tr>\n",
       "    <tr>\n",
       "      <th>Name</th>\n",
       "      <th></th>\n",
       "      <th></th>\n",
       "      <th></th>\n",
       "      <th></th>\n",
       "      <th></th>\n",
       "      <th></th>\n",
       "      <th></th>\n",
       "      <th></th>\n",
       "      <th></th>\n",
       "      <th></th>\n",
       "      <th></th>\n",
       "    </tr>\n",
       "  </thead>\n",
       "  <tbody>\n",
       "    <tr>\n",
       "      <th>DDX11L1</th>\n",
       "      <td>DDX11L1</td>\n",
       "      <td>0.027446</td>\n",
       "      <td>0.024232</td>\n",
       "      <td>0.053278</td>\n",
       "      <td>0.029142</td>\n",
       "      <td>0.026346</td>\n",
       "      <td>0.062063</td>\n",
       "      <td>0.107488</td>\n",
       "      <td>0.029961</td>\n",
       "      <td>0.000000</td>\n",
       "      <td>0.000000</td>\n",
       "    </tr>\n",
       "    <tr>\n",
       "      <th>WASH7P</th>\n",
       "      <td>WASH7P</td>\n",
       "      <td>6.457387</td>\n",
       "      <td>6.500977</td>\n",
       "      <td>9.305351</td>\n",
       "      <td>10.427326</td>\n",
       "      <td>6.852724</td>\n",
       "      <td>7.412390</td>\n",
       "      <td>7.323292</td>\n",
       "      <td>6.745569</td>\n",
       "      <td>7.572732</td>\n",
       "      <td>8.483906</td>\n",
       "    </tr>\n",
       "    <tr>\n",
       "      <th>MIR1302-11</th>\n",
       "      <td>MIR1302-11</td>\n",
       "      <td>0.000000</td>\n",
       "      <td>0.000000</td>\n",
       "      <td>0.000000</td>\n",
       "      <td>0.000000</td>\n",
       "      <td>0.000000</td>\n",
       "      <td>0.000000</td>\n",
       "      <td>0.000000</td>\n",
       "      <td>0.000000</td>\n",
       "      <td>0.000000</td>\n",
       "      <td>0.000000</td>\n",
       "    </tr>\n",
       "    <tr>\n",
       "      <th>FAM138A</th>\n",
       "      <td>FAM138A</td>\n",
       "      <td>0.000000</td>\n",
       "      <td>0.000000</td>\n",
       "      <td>0.000000</td>\n",
       "      <td>0.000000</td>\n",
       "      <td>0.000000</td>\n",
       "      <td>0.000000</td>\n",
       "      <td>0.000000</td>\n",
       "      <td>0.000000</td>\n",
       "      <td>0.000000</td>\n",
       "      <td>0.000000</td>\n",
       "    </tr>\n",
       "    <tr>\n",
       "      <th>OR4F5</th>\n",
       "      <td>OR4F5</td>\n",
       "      <td>0.000000</td>\n",
       "      <td>0.000000</td>\n",
       "      <td>0.000000</td>\n",
       "      <td>0.000000</td>\n",
       "      <td>0.000000</td>\n",
       "      <td>0.000000</td>\n",
       "      <td>0.000000</td>\n",
       "      <td>0.000000</td>\n",
       "      <td>0.000000</td>\n",
       "      <td>0.000000</td>\n",
       "    </tr>\n",
       "  </tbody>\n",
       "</table>\n",
       "</div>"
      ],
      "text/plain": [
       "           Description    SLK1_1    SLK2_1  SLK1PU_1   SLK2PU_1   SLKP1_1  \\\n",
       "Name                                                                        \n",
       "DDX11L1        DDX11L1  0.027446  0.024232  0.053278   0.029142  0.026346   \n",
       "WASH7P          WASH7P  6.457387  6.500977  9.305351  10.427326  6.852724   \n",
       "MIR1302-11  MIR1302-11  0.000000  0.000000  0.000000   0.000000  0.000000   \n",
       "FAM138A        FAM138A  0.000000  0.000000  0.000000   0.000000  0.000000   \n",
       "OR4F5            OR4F5  0.000000  0.000000  0.000000   0.000000  0.000000   \n",
       "\n",
       "             SLKP2_1    SLG1_1    SLG2_1   SLGP1_1   SLGP2_1  \n",
       "Name                                                          \n",
       "DDX11L1     0.062063  0.107488  0.029961  0.000000  0.000000  \n",
       "WASH7P      7.412390  7.323292  6.745569  7.572732  8.483906  \n",
       "MIR1302-11  0.000000  0.000000  0.000000  0.000000  0.000000  \n",
       "FAM138A     0.000000  0.000000  0.000000  0.000000  0.000000  \n",
       "OR4F5       0.000000  0.000000  0.000000  0.000000  0.000000  "
      ]
     },
     "execution_count": 4,
     "metadata": {},
     "output_type": "execute_result"
    }
   ],
   "source": [
    "kras_file = 'https://raw.githubusercontent.com/UCSD-CCAL/onco_gps_paper_analysis/master/data/gene_x_kras_isogenic_and_imortalized_celllines.gct'\n",
    "kras_cellline_df = pd.read_table(kras_file, skiprows=2, index_col=0)\n",
    "print(kras_cellline_df.shape)\n",
    "kras_cellline_df.head()"
   ]
  },
  {
   "cell_type": "code",
   "execution_count": 5,
   "metadata": {
    "collapsed": false
   },
   "outputs": [
    {
     "name": "stdout",
     "output_type": "stream",
     "text": [
      "There are a total of 177 out of 185 genes in common between the datasets\n"
     ]
    }
   ],
   "source": [
    "# Determine the extent of coefficient overlap\n",
    "common_genes = list(set(coef_df['feature']) & set(kras_cellline_df.index))\n",
    "common_coef = coef_df[coef_df['feature'].isin(common_genes)]\n",
    "\n",
    "print('There are a total of {} out of {} genes in common between the datasets'\n",
    "      .format(common_coef.shape[0], coef_df.shape[0]))"
   ]
  },
  {
   "cell_type": "code",
   "execution_count": 6,
   "metadata": {
    "collapsed": false
   },
   "outputs": [
    {
     "name": "stdout",
     "output_type": "stream",
     "text": [
      "(177, 10)\n"
     ]
    }
   ],
   "source": [
    "# Subset cell line data and reorder\n",
    "kras_cellline_df = kras_cellline_df.loc[common_coef['feature'], kras_cellline_df.columns[1:]]\n",
    "print(kras_cellline_df.shape)"
   ]
  },
  {
   "cell_type": "code",
   "execution_count": 7,
   "metadata": {
    "collapsed": false
   },
   "outputs": [
    {
     "data": {
      "text/html": [
       "<div>\n",
       "<style>\n",
       "    .dataframe thead tr:only-child th {\n",
       "        text-align: right;\n",
       "    }\n",
       "\n",
       "    .dataframe thead th {\n",
       "        text-align: left;\n",
       "    }\n",
       "\n",
       "    .dataframe tbody tr th {\n",
       "        vertical-align: top;\n",
       "    }\n",
       "</style>\n",
       "<table border=\"1\" class=\"dataframe\">\n",
       "  <thead>\n",
       "    <tr style=\"text-align: right;\">\n",
       "      <th></th>\n",
       "      <th>feature</th>\n",
       "      <th>weight</th>\n",
       "      <th>abs</th>\n",
       "    </tr>\n",
       "  </thead>\n",
       "  <tbody>\n",
       "    <tr>\n",
       "      <th>6994</th>\n",
       "      <td>KIAA1539</td>\n",
       "      <td>0.069202</td>\n",
       "      <td>0.069202</td>\n",
       "    </tr>\n",
       "    <tr>\n",
       "      <th>5954</th>\n",
       "      <td>C12orf11</td>\n",
       "      <td>0.063514</td>\n",
       "      <td>0.063514</td>\n",
       "    </tr>\n",
       "    <tr>\n",
       "      <th>7023</th>\n",
       "      <td>ZNF322A</td>\n",
       "      <td>0.048071</td>\n",
       "      <td>0.048071</td>\n",
       "    </tr>\n",
       "    <tr>\n",
       "      <th>8033</th>\n",
       "      <td>log10_mut</td>\n",
       "      <td>0.048028</td>\n",
       "      <td>0.048028</td>\n",
       "    </tr>\n",
       "    <tr>\n",
       "      <th>4795</th>\n",
       "      <td>C17orf37</td>\n",
       "      <td>-0.034015</td>\n",
       "      <td>0.034015</td>\n",
       "    </tr>\n",
       "    <tr>\n",
       "      <th>52</th>\n",
       "      <td>LOC96610</td>\n",
       "      <td>-0.020048</td>\n",
       "      <td>0.020048</td>\n",
       "    </tr>\n",
       "    <tr>\n",
       "      <th>7851</th>\n",
       "      <td>LOC25845</td>\n",
       "      <td>-0.008914</td>\n",
       "      <td>0.008914</td>\n",
       "    </tr>\n",
       "    <tr>\n",
       "      <th>6614</th>\n",
       "      <td>UPK3BL</td>\n",
       "      <td>-0.006527</td>\n",
       "      <td>0.006527</td>\n",
       "    </tr>\n",
       "  </tbody>\n",
       "</table>\n",
       "</div>"
      ],
      "text/plain": [
       "        feature    weight       abs\n",
       "6994   KIAA1539  0.069202  0.069202\n",
       "5954   C12orf11  0.063514  0.063514\n",
       "7023    ZNF322A  0.048071  0.048071\n",
       "8033  log10_mut  0.048028  0.048028\n",
       "4795   C17orf37 -0.034015  0.034015\n",
       "52     LOC96610 -0.020048  0.020048\n",
       "7851   LOC25845 -0.008914  0.008914\n",
       "6614     UPK3BL -0.006527  0.006527"
      ]
     },
     "execution_count": 7,
     "metadata": {},
     "output_type": "execute_result"
    }
   ],
   "source": [
    "# Which Genes are Missing?\n",
    "missing_genes = list(set(coef_df['feature']).difference(set(kras_cellline_df.index)))\n",
    "all_coef_df[all_coef_df['feature'].isin(missing_genes)]"
   ]
  },
  {
   "cell_type": "code",
   "execution_count": 8,
   "metadata": {
    "collapsed": true
   },
   "outputs": [],
   "source": [
    "# Transform the cell line data by z-score\n",
    "scaled_fit = StandardScaler().fit(kras_cellline_df.T)\n",
    "kras_cellline_df = pd.DataFrame(scaled_fit.transform(kras_cellline_df.T),\n",
    "                                index=kras_cellline_df.columns,\n",
    "                                columns=kras_cellline_df.index)"
   ]
  },
  {
   "cell_type": "code",
   "execution_count": 9,
   "metadata": {
    "collapsed": false
   },
   "outputs": [],
   "source": [
    "# Get the weights ready for applying the classifier\n",
    "apply_weights = pd.DataFrame(common_coef['weight'])\n",
    "apply_weights.index = common_coef.feature"
   ]
  },
  {
   "cell_type": "code",
   "execution_count": 10,
   "metadata": {
    "collapsed": false
   },
   "outputs": [],
   "source": [
    "# Apply a logit transform [y = 1/(1+e^(-wX))] to output probabilities\n",
    "result = apply_weights.T.dot(kras_cellline_df.T)\n",
    "result = 1 / (1 + np.exp(-1 * result))"
   ]
  },
  {
   "cell_type": "code",
   "execution_count": 11,
   "metadata": {
    "collapsed": false
   },
   "outputs": [
    {
     "data": {
      "text/html": [
       "<div>\n",
       "<style>\n",
       "    .dataframe thead tr:only-child th {\n",
       "        text-align: right;\n",
       "    }\n",
       "\n",
       "    .dataframe thead th {\n",
       "        text-align: left;\n",
       "    }\n",
       "\n",
       "    .dataframe tbody tr th {\n",
       "        vertical-align: top;\n",
       "    }\n",
       "</style>\n",
       "<table border=\"1\" class=\"dataframe\">\n",
       "  <thead>\n",
       "    <tr style=\"text-align: right;\">\n",
       "      <th></th>\n",
       "      <th>weight</th>\n",
       "    </tr>\n",
       "  </thead>\n",
       "  <tbody>\n",
       "    <tr>\n",
       "      <th>SLGP2_1</th>\n",
       "      <td>0.193174</td>\n",
       "    </tr>\n",
       "    <tr>\n",
       "      <th>SLGP1_1</th>\n",
       "      <td>0.233745</td>\n",
       "    </tr>\n",
       "    <tr>\n",
       "      <th>SLG2_1</th>\n",
       "      <td>0.405716</td>\n",
       "    </tr>\n",
       "    <tr>\n",
       "      <th>SLG1_1</th>\n",
       "      <td>0.446853</td>\n",
       "    </tr>\n",
       "    <tr>\n",
       "      <th>SLK1PU_1</th>\n",
       "      <td>0.477593</td>\n",
       "    </tr>\n",
       "    <tr>\n",
       "      <th>SLKP1_1</th>\n",
       "      <td>0.503113</td>\n",
       "    </tr>\n",
       "    <tr>\n",
       "      <th>SLKP2_1</th>\n",
       "      <td>0.526634</td>\n",
       "    </tr>\n",
       "    <tr>\n",
       "      <th>SLK2PU_1</th>\n",
       "      <td>0.566311</td>\n",
       "    </tr>\n",
       "    <tr>\n",
       "      <th>SLK2_1</th>\n",
       "      <td>0.755042</td>\n",
       "    </tr>\n",
       "    <tr>\n",
       "      <th>SLK1_1</th>\n",
       "      <td>0.856927</td>\n",
       "    </tr>\n",
       "  </tbody>\n",
       "</table>\n",
       "</div>"
      ],
      "text/plain": [
       "            weight\n",
       "SLGP2_1   0.193174\n",
       "SLGP1_1   0.233745\n",
       "SLG2_1    0.405716\n",
       "SLG1_1    0.446853\n",
       "SLK1PU_1  0.477593\n",
       "SLKP1_1   0.503113\n",
       "SLKP2_1   0.526634\n",
       "SLK2PU_1  0.566311\n",
       "SLK2_1    0.755042\n",
       "SLK1_1    0.856927"
      ]
     },
     "execution_count": 11,
     "metadata": {},
     "output_type": "execute_result"
    }
   ],
   "source": [
    "result.T.sort_values(by='weight')"
   ]
  },
  {
   "cell_type": "code",
   "execution_count": 12,
   "metadata": {
    "collapsed": false
   },
   "outputs": [
    {
     "data": {
      "text/html": [
       "<div>\n",
       "<style>\n",
       "    .dataframe thead tr:only-child th {\n",
       "        text-align: right;\n",
       "    }\n",
       "\n",
       "    .dataframe thead th {\n",
       "        text-align: left;\n",
       "    }\n",
       "\n",
       "    .dataframe tbody tr th {\n",
       "        vertical-align: top;\n",
       "    }\n",
       "</style>\n",
       "<table border=\"1\" class=\"dataframe\">\n",
       "  <thead>\n",
       "    <tr style=\"text-align: right;\">\n",
       "      <th></th>\n",
       "      <th>weight</th>\n",
       "      <th>Ras_Mutation</th>\n",
       "      <th>sample_name</th>\n",
       "      <th>dummy_y</th>\n",
       "    </tr>\n",
       "  </thead>\n",
       "  <tbody>\n",
       "    <tr>\n",
       "      <th>SLK1_1</th>\n",
       "      <td>0.856927</td>\n",
       "      <td>1</td>\n",
       "      <td>SLK1_1</td>\n",
       "      <td>0</td>\n",
       "    </tr>\n",
       "    <tr>\n",
       "      <th>SLK2_1</th>\n",
       "      <td>0.755042</td>\n",
       "      <td>1</td>\n",
       "      <td>SLK2_1</td>\n",
       "      <td>0</td>\n",
       "    </tr>\n",
       "    <tr>\n",
       "      <th>SLK1PU_1</th>\n",
       "      <td>0.477593</td>\n",
       "      <td>1</td>\n",
       "      <td>SLK1PU_1</td>\n",
       "      <td>0</td>\n",
       "    </tr>\n",
       "    <tr>\n",
       "      <th>SLK2PU_1</th>\n",
       "      <td>0.566311</td>\n",
       "      <td>1</td>\n",
       "      <td>SLK2PU_1</td>\n",
       "      <td>0</td>\n",
       "    </tr>\n",
       "    <tr>\n",
       "      <th>SLKP1_1</th>\n",
       "      <td>0.503113</td>\n",
       "      <td>1</td>\n",
       "      <td>SLKP1_1</td>\n",
       "      <td>0</td>\n",
       "    </tr>\n",
       "    <tr>\n",
       "      <th>SLKP2_1</th>\n",
       "      <td>0.526634</td>\n",
       "      <td>1</td>\n",
       "      <td>SLKP2_1</td>\n",
       "      <td>0</td>\n",
       "    </tr>\n",
       "    <tr>\n",
       "      <th>SLG1_1</th>\n",
       "      <td>0.446853</td>\n",
       "      <td>-1</td>\n",
       "      <td>SLG1_1</td>\n",
       "      <td>0</td>\n",
       "    </tr>\n",
       "    <tr>\n",
       "      <th>SLG2_1</th>\n",
       "      <td>0.405716</td>\n",
       "      <td>-1</td>\n",
       "      <td>SLG2_1</td>\n",
       "      <td>0</td>\n",
       "    </tr>\n",
       "    <tr>\n",
       "      <th>SLGP1_1</th>\n",
       "      <td>0.233745</td>\n",
       "      <td>-1</td>\n",
       "      <td>SLGP1_1</td>\n",
       "      <td>0</td>\n",
       "    </tr>\n",
       "    <tr>\n",
       "      <th>SLGP2_1</th>\n",
       "      <td>0.193174</td>\n",
       "      <td>-1</td>\n",
       "      <td>SLGP2_1</td>\n",
       "      <td>0</td>\n",
       "    </tr>\n",
       "  </tbody>\n",
       "</table>\n",
       "</div>"
      ],
      "text/plain": [
       "            weight  Ras_Mutation sample_name  dummy_y\n",
       "SLK1_1    0.856927             1      SLK1_1        0\n",
       "SLK2_1    0.755042             1      SLK2_1        0\n",
       "SLK1PU_1  0.477593             1    SLK1PU_1        0\n",
       "SLK2PU_1  0.566311             1    SLK2PU_1        0\n",
       "SLKP1_1   0.503113             1     SLKP1_1        0\n",
       "SLKP2_1   0.526634             1     SLKP2_1        0\n",
       "SLG1_1    0.446853            -1      SLG1_1        0\n",
       "SLG2_1    0.405716            -1      SLG2_1        0\n",
       "SLGP1_1   0.233745            -1     SLGP1_1        0\n",
       "SLGP2_1   0.193174            -1     SLGP2_1        0"
      ]
     },
     "execution_count": 12,
     "metadata": {},
     "output_type": "execute_result"
    }
   ],
   "source": [
    "# Mutation status from Onco-GPS repository\n",
    "output = result.T.assign(Ras_Mutation = [1, 1, 1, 1, 1, 1, -1, -1, -1, -1])\n",
    "output = output.assign(sample_name = output.index)\n",
    "output = output.assign(dummy_y = 0)\n",
    "output"
   ]
  },
  {
   "cell_type": "code",
   "execution_count": 13,
   "metadata": {
    "collapsed": false
   },
   "outputs": [
    {
     "name": "stdout",
     "output_type": "stream",
     "text": [
      "Statistic = 3.31, p = 1.16E-2\n"
     ]
    }
   ],
   "source": [
    "# Perform a t-test to determine if weights are significantly different\n",
    "ras_geo_mutant = output[output['Ras_Mutation'] == 1]\n",
    "ras_geo_wt = output[output['Ras_Mutation'] == -1]\n",
    "\n",
    "# Output t-test results\n",
    "t_results_geo_ras = ttest_ind(a = ras_geo_mutant['weight'],\n",
    "                              b = ras_geo_wt['weight'], equal_var = False)\n",
    "print('Statistic = {:.2f}, p = {:.2E}'.format(t_results_geo_ras[0],\n",
    "                                              Decimal(t_results_geo_ras[1])))"
   ]
  },
  {
   "cell_type": "code",
   "execution_count": 14,
   "metadata": {
    "collapsed": false
   },
   "outputs": [
    {
     "data": {
      "image/png": "[encoded data removed]",
      "text/plain": [
       "<matplotlib.figure.Figure at 0x7fb1849daa20>"
      ]
     },
     "metadata": {},
     "output_type": "display_data"
    },
    {
     "data": {
      "text/plain": [
       "<ggplot: (-9223363261828890101)>"
      ]
     },
     "execution_count": 14,
     "metadata": {},
     "output_type": "execute_result"
    }
   ],
   "source": [
    "p = (gg.ggplot(output,\n",
    "               gg.aes(x='weight', y='dummy_y', color='factor(Ras_Mutation)')) +\n",
    "     gg.geom_hline(gg.aes(yintercept=0), linetype='solid') +\n",
    "     gg.geom_point(size=4) +\n",
    "     gg.scale_color_manual(values=[\"#377eb8\", \"#ff7f00\"], labels=['Wild-Type', 'Mutant']) +\n",
    "     gg.ylim([-0.1, 0.1]) +\n",
    "     gg.xlim([-0.001, 1.001]) +\n",
    "     gg.theme_seaborn(style='whitegrid') +\n",
    "     gg.xlab('Ras Classifier Score') +\n",
    "     gg.ylab('') +\n",
    "     gg.labs(color='Ras Status') +\n",
    "     gg.ggtitle('GSE94937 Cell Lines\\n') +\n",
    "     gg.theme(\n",
    "        plot_title=gg.element_text(size=22),\n",
    "        axis_title_x=gg.element_text(size=16),\n",
    "        axis_text_x=gg.element_text(size=14),\n",
    "        axis_text_y=gg.element_blank(),\n",
    "        axis_ticks_length=4,\n",
    "        axis_ticks_major_y=gg.element_blank(),\n",
    "        axis_ticks_minor_y=gg.element_blank(),\n",
    "        axis_ticks_minor_x=gg.element_blank(),\n",
    "        legend_position=(1.0, 0.5),\n",
    "        legend_background=gg.element_blank(),\n",
    "        legend_key=gg.element_rect(fill='white'),\n",
    "        legend_text=gg.element_text(size=9),\n",
    "        legend_title=gg.element_text(size=12),\n",
    "        panel_border=gg.element_blank(),\n",
    "        panel_grid_major=gg.element_blank(),\n",
    "        panel_grid_minor=gg.element_blank()))\n",
    "kras_fig_file = os.path.join('..', 'figures', 'cell_line', 'kras_cell_line_predictions.pdf')\n",
    "p.save(kras_fig_file, width=6, height=0.5)\n",
    "p"
   ]
  },
  {
   "cell_type": "markdown",
   "metadata": {},
   "source": [
    "## Part 2: CCLE\n",
    "\n",
    "Note - This data was also retrieved from the Onco-GPS paper analysis repository"
   ]
  },
  {
   "cell_type": "code",
   "execution_count": 15,
   "metadata": {
    "collapsed": false
   },
   "outputs": [
    {
     "name": "stdout",
     "output_type": "stream",
     "text": [
      "(48642, 751)\n"
     ]
    },
    {
     "data": {
      "text/html": [
       "<div>\n",
       "<style>\n",
       "    .dataframe thead tr:only-child th {\n",
       "        text-align: right;\n",
       "    }\n",
       "\n",
       "    .dataframe thead th {\n",
       "        text-align: left;\n",
       "    }\n",
       "\n",
       "    .dataframe tbody tr th {\n",
       "        vertical-align: top;\n",
       "    }\n",
       "</style>\n",
       "<table border=\"1\" class=\"dataframe\">\n",
       "  <thead>\n",
       "    <tr style=\"text-align: right;\">\n",
       "      <th></th>\n",
       "      <th>Description</th>\n",
       "      <th>A101D_SKIN</th>\n",
       "      <th>A172_CENTRAL_NERVOUS_SYSTEM</th>\n",
       "      <th>A204_SOFT_TISSUE</th>\n",
       "      <th>A2058_SKIN</th>\n",
       "      <th>A2780_OVARY</th>\n",
       "      <th>A375_SKIN</th>\n",
       "      <th>A498_KIDNEY</th>\n",
       "      <th>A549_LUNG</th>\n",
       "      <th>A673_BONE</th>\n",
       "      <th>...</th>\n",
       "      <th>WM88_SKIN</th>\n",
       "      <th>WM983B_SKIN</th>\n",
       "      <th>YAPC_PANCREAS</th>\n",
       "      <th>YD10B_UPPER_AERODIGESTIVE_TRACT</th>\n",
       "      <th>YD38_UPPER_AERODIGESTIVE_TRACT</th>\n",
       "      <th>YD8_UPPER_AERODIGESTIVE_TRACT</th>\n",
       "      <th>YH13_CENTRAL_NERVOUS_SYSTEM</th>\n",
       "      <th>YKG1_CENTRAL_NERVOUS_SYSTEM</th>\n",
       "      <th>ZR751_BREAST</th>\n",
       "      <th>ZR7530_BREAST</th>\n",
       "    </tr>\n",
       "    <tr>\n",
       "      <th>Name</th>\n",
       "      <th></th>\n",
       "      <th></th>\n",
       "      <th></th>\n",
       "      <th></th>\n",
       "      <th></th>\n",
       "      <th></th>\n",
       "      <th></th>\n",
       "      <th></th>\n",
       "      <th></th>\n",
       "      <th></th>\n",
       "      <th></th>\n",
       "      <th></th>\n",
       "      <th></th>\n",
       "      <th></th>\n",
       "      <th></th>\n",
       "      <th></th>\n",
       "      <th></th>\n",
       "      <th></th>\n",
       "      <th></th>\n",
       "      <th></th>\n",
       "      <th></th>\n",
       "    </tr>\n",
       "  </thead>\n",
       "  <tbody>\n",
       "    <tr>\n",
       "      <th>DDX11L1</th>\n",
       "      <td>DDX11L1</td>\n",
       "      <td>0.143806</td>\n",
       "      <td>0.000000</td>\n",
       "      <td>0.000000</td>\n",
       "      <td>0.026581</td>\n",
       "      <td>0.000000</td>\n",
       "      <td>0.044352</td>\n",
       "      <td>0.031793</td>\n",
       "      <td>0.153366</td>\n",
       "      <td>0.050799</td>\n",
       "      <td>...</td>\n",
       "      <td>0.000000</td>\n",
       "      <td>0.066865</td>\n",
       "      <td>0.048505</td>\n",
       "      <td>0.000000</td>\n",
       "      <td>0.000000</td>\n",
       "      <td>0.000000</td>\n",
       "      <td>0.07007</td>\n",
       "      <td>0.028786</td>\n",
       "      <td>0.345695</td>\n",
       "      <td>0.049316</td>\n",
       "    </tr>\n",
       "    <tr>\n",
       "      <th>WASH7P</th>\n",
       "      <td>WASH7P</td>\n",
       "      <td>10.676400</td>\n",
       "      <td>6.371524</td>\n",
       "      <td>5.081923</td>\n",
       "      <td>10.166624</td>\n",
       "      <td>12.804347</td>\n",
       "      <td>6.835694</td>\n",
       "      <td>5.874934</td>\n",
       "      <td>3.453761</td>\n",
       "      <td>18.524847</td>\n",
       "      <td>...</td>\n",
       "      <td>8.982923</td>\n",
       "      <td>11.572878</td>\n",
       "      <td>6.490550</td>\n",
       "      <td>12.536602</td>\n",
       "      <td>6.839503</td>\n",
       "      <td>9.409850</td>\n",
       "      <td>8.52892</td>\n",
       "      <td>7.445187</td>\n",
       "      <td>20.086628</td>\n",
       "      <td>10.270507</td>\n",
       "    </tr>\n",
       "    <tr>\n",
       "      <th>MIR1302-11</th>\n",
       "      <td>MIR1302-11</td>\n",
       "      <td>0.121055</td>\n",
       "      <td>0.000000</td>\n",
       "      <td>0.000000</td>\n",
       "      <td>0.000000</td>\n",
       "      <td>0.129967</td>\n",
       "      <td>0.311123</td>\n",
       "      <td>0.133815</td>\n",
       "      <td>0.000000</td>\n",
       "      <td>0.160357</td>\n",
       "      <td>...</td>\n",
       "      <td>0.000000</td>\n",
       "      <td>0.000000</td>\n",
       "      <td>0.000000</td>\n",
       "      <td>0.780091</td>\n",
       "      <td>0.000000</td>\n",
       "      <td>0.094617</td>\n",
       "      <td>0.00000</td>\n",
       "      <td>0.424061</td>\n",
       "      <td>0.000000</td>\n",
       "      <td>0.000000</td>\n",
       "    </tr>\n",
       "    <tr>\n",
       "      <th>FAM138A</th>\n",
       "      <td>FAM138A</td>\n",
       "      <td>0.099803</td>\n",
       "      <td>0.000000</td>\n",
       "      <td>0.000000</td>\n",
       "      <td>0.030746</td>\n",
       "      <td>0.000000</td>\n",
       "      <td>0.006840</td>\n",
       "      <td>0.000000</td>\n",
       "      <td>0.000000</td>\n",
       "      <td>0.000000</td>\n",
       "      <td>...</td>\n",
       "      <td>0.000000</td>\n",
       "      <td>0.041249</td>\n",
       "      <td>0.000000</td>\n",
       "      <td>0.000000</td>\n",
       "      <td>0.000000</td>\n",
       "      <td>0.000000</td>\n",
       "      <td>0.00000</td>\n",
       "      <td>0.119868</td>\n",
       "      <td>0.000000</td>\n",
       "      <td>0.000000</td>\n",
       "    </tr>\n",
       "    <tr>\n",
       "      <th>OR4G11P</th>\n",
       "      <td>OR4G11P</td>\n",
       "      <td>0.000000</td>\n",
       "      <td>0.000000</td>\n",
       "      <td>0.000000</td>\n",
       "      <td>0.000000</td>\n",
       "      <td>0.000000</td>\n",
       "      <td>0.000000</td>\n",
       "      <td>0.000000</td>\n",
       "      <td>0.000000</td>\n",
       "      <td>0.000000</td>\n",
       "      <td>...</td>\n",
       "      <td>0.000000</td>\n",
       "      <td>0.160477</td>\n",
       "      <td>0.000000</td>\n",
       "      <td>0.000000</td>\n",
       "      <td>0.000000</td>\n",
       "      <td>0.000000</td>\n",
       "      <td>0.00000</td>\n",
       "      <td>0.008636</td>\n",
       "      <td>0.000000</td>\n",
       "      <td>0.000000</td>\n",
       "    </tr>\n",
       "  </tbody>\n",
       "</table>\n",
       "<p>5 rows × 751 columns</p>\n",
       "</div>"
      ],
      "text/plain": [
       "           Description  A101D_SKIN  A172_CENTRAL_NERVOUS_SYSTEM  \\\n",
       "Name                                                              \n",
       "DDX11L1        DDX11L1    0.143806                     0.000000   \n",
       "WASH7P          WASH7P   10.676400                     6.371524   \n",
       "MIR1302-11  MIR1302-11    0.121055                     0.000000   \n",
       "FAM138A        FAM138A    0.099803                     0.000000   \n",
       "OR4G11P        OR4G11P    0.000000                     0.000000   \n",
       "\n",
       "            A204_SOFT_TISSUE  A2058_SKIN  A2780_OVARY  A375_SKIN  A498_KIDNEY  \\\n",
       "Name                                                                            \n",
       "DDX11L1             0.000000    0.026581     0.000000   0.044352     0.031793   \n",
       "WASH7P              5.081923   10.166624    12.804347   6.835694     5.874934   \n",
       "MIR1302-11          0.000000    0.000000     0.129967   0.311123     0.133815   \n",
       "FAM138A             0.000000    0.030746     0.000000   0.006840     0.000000   \n",
       "OR4G11P             0.000000    0.000000     0.000000   0.000000     0.000000   \n",
       "\n",
       "            A549_LUNG  A673_BONE      ...        WM88_SKIN  WM983B_SKIN  \\\n",
       "Name                                  ...                                 \n",
       "DDX11L1      0.153366   0.050799      ...         0.000000     0.066865   \n",
       "WASH7P       3.453761  18.524847      ...         8.982923    11.572878   \n",
       "MIR1302-11   0.000000   0.160357      ...         0.000000     0.000000   \n",
       "FAM138A      0.000000   0.000000      ...         0.000000     0.041249   \n",
       "OR4G11P      0.000000   0.000000      ...         0.000000     0.160477   \n",
       "\n",
       "            YAPC_PANCREAS  YD10B_UPPER_AERODIGESTIVE_TRACT  \\\n",
       "Name                                                         \n",
       "DDX11L1          0.048505                         0.000000   \n",
       "WASH7P           6.490550                        12.536602   \n",
       "MIR1302-11       0.000000                         0.780091   \n",
       "FAM138A          0.000000                         0.000000   \n",
       "OR4G11P          0.000000                         0.000000   \n",
       "\n",
       "            YD38_UPPER_AERODIGESTIVE_TRACT  YD8_UPPER_AERODIGESTIVE_TRACT  \\\n",
       "Name                                                                        \n",
       "DDX11L1                           0.000000                       0.000000   \n",
       "WASH7P                            6.839503                       9.409850   \n",
       "MIR1302-11                        0.000000                       0.094617   \n",
       "FAM138A                           0.000000                       0.000000   \n",
       "OR4G11P                           0.000000                       0.000000   \n",
       "\n",
       "            YH13_CENTRAL_NERVOUS_SYSTEM  YKG1_CENTRAL_NERVOUS_SYSTEM  \\\n",
       "Name                                                                   \n",
       "DDX11L1                         0.07007                     0.028786   \n",
       "WASH7P                          8.52892                     7.445187   \n",
       "MIR1302-11                      0.00000                     0.424061   \n",
       "FAM138A                         0.00000                     0.119868   \n",
       "OR4G11P                         0.00000                     0.008636   \n",
       "\n",
       "            ZR751_BREAST  ZR7530_BREAST  \n",
       "Name                                     \n",
       "DDX11L1         0.345695       0.049316  \n",
       "WASH7P         20.086628      10.270507  \n",
       "MIR1302-11      0.000000       0.000000  \n",
       "FAM138A         0.000000       0.000000  \n",
       "OR4G11P         0.000000       0.000000  \n",
       "\n",
       "[5 rows x 751 columns]"
      ]
     },
     "execution_count": 15,
     "metadata": {},
     "output_type": "execute_result"
    }
   ],
   "source": [
    "ccle_file_name = os.path.join('..', '..', 'onco-gps-paper-analysis', 'data',\n",
    "                              'rpkm__gene_x_ccle_cellline.gct')\n",
    "ccle_df = pd.read_table(ccle_file_name, skiprows=2, index_col=0)\n",
    "print(ccle_df.shape)\n",
    "ccle_df.head()"
   ]
  },
  {
   "cell_type": "code",
   "execution_count": 16,
   "metadata": {
    "collapsed": false
   },
   "outputs": [
    {
     "name": "stdout",
     "output_type": "stream",
     "text": [
      "(177, 3)\n"
     ]
    },
    {
     "data": {
      "text/html": [
       "<div>\n",
       "<style>\n",
       "    .dataframe thead tr:only-child th {\n",
       "        text-align: right;\n",
       "    }\n",
       "\n",
       "    .dataframe thead th {\n",
       "        text-align: left;\n",
       "    }\n",
       "\n",
       "    .dataframe tbody tr th {\n",
       "        vertical-align: top;\n",
       "    }\n",
       "</style>\n",
       "<table border=\"1\" class=\"dataframe\">\n",
       "  <thead>\n",
       "    <tr style=\"text-align: right;\">\n",
       "      <th></th>\n",
       "      <th>feature</th>\n",
       "      <th>weight</th>\n",
       "      <th>abs</th>\n",
       "    </tr>\n",
       "  </thead>\n",
       "  <tbody>\n",
       "    <tr>\n",
       "      <th>6702</th>\n",
       "      <td>PBX3</td>\n",
       "      <td>0.139761</td>\n",
       "      <td>0.139761</td>\n",
       "    </tr>\n",
       "    <tr>\n",
       "      <th>4592</th>\n",
       "      <td>SPRY2</td>\n",
       "      <td>0.123713</td>\n",
       "      <td>0.123713</td>\n",
       "    </tr>\n",
       "    <tr>\n",
       "      <th>6708</th>\n",
       "      <td>C15orf52</td>\n",
       "      <td>0.106100</td>\n",
       "      <td>0.106100</td>\n",
       "    </tr>\n",
       "    <tr>\n",
       "      <th>2882</th>\n",
       "      <td>PPP1R3B</td>\n",
       "      <td>0.104700</td>\n",
       "      <td>0.104700</td>\n",
       "    </tr>\n",
       "    <tr>\n",
       "      <th>1520</th>\n",
       "      <td>MLPH</td>\n",
       "      <td>0.102069</td>\n",
       "      <td>0.102069</td>\n",
       "    </tr>\n",
       "  </tbody>\n",
       "</table>\n",
       "</div>"
      ],
      "text/plain": [
       "       feature    weight       abs\n",
       "6702      PBX3  0.139761  0.139761\n",
       "4592     SPRY2  0.123713  0.123713\n",
       "6708  C15orf52  0.106100  0.106100\n",
       "2882   PPP1R3B  0.104700  0.104700\n",
       "1520      MLPH  0.102069  0.102069"
      ]
     },
     "execution_count": 16,
     "metadata": {},
     "output_type": "execute_result"
    }
   ],
   "source": [
    "# Subset to common genes in the classifier and CCLE data\n",
    "common_genes = list(set(coef_df['feature']) & set(ccle_df.index))\n",
    "common_ccle_coef = coef_df[coef_df['feature'].isin(common_genes)]\n",
    "print(common_ccle_coef.shape)\n",
    "common_ccle_coef.head()"
   ]
  },
  {
   "cell_type": "code",
   "execution_count": 17,
   "metadata": {
    "collapsed": false
   },
   "outputs": [],
   "source": [
    "ccle_df = ccle_df.loc[common_ccle_coef['feature'], ccle_df.columns[1:]]"
   ]
  },
  {
   "cell_type": "code",
   "execution_count": 18,
   "metadata": {
    "collapsed": true
   },
   "outputs": [],
   "source": [
    "scaled_fit = StandardScaler().fit(ccle_df.T)\n",
    "ccle_df = pd.DataFrame(scaled_fit.transform(ccle_df.T),\n",
    "                            index=ccle_df.columns,\n",
    "                            columns=ccle_df.index)"
   ]
  },
  {
   "cell_type": "code",
   "execution_count": 19,
   "metadata": {
    "collapsed": false
   },
   "outputs": [],
   "source": [
    "# Apply a logit transform [y = 1/(1+e^(-wX))] to output probabilities\n",
    "result_ccle = apply_weights.T.dot(ccle_df.T)\n",
    "result_ccle = 1 / (1 + np.exp(-1 * result_ccle))"
   ]
  },
  {
   "cell_type": "code",
   "execution_count": 20,
   "metadata": {
    "collapsed": false
   },
   "outputs": [
    {
     "data": {
      "image/png": "[encoded data removed]",
      "text/plain": [
       "<matplotlib.figure.Figure at 0x7fb18412cbe0>"
      ]
     },
     "metadata": {},
     "output_type": "display_data"
    }
   ],
   "source": [
    "# Distribution of predictions of the Ras Classifier applied to CCLE data\n",
    "result_ccle.T.hist();"
   ]
  },
  {
   "cell_type": "code",
   "execution_count": 21,
   "metadata": {
    "collapsed": false
   },
   "outputs": [
    {
     "data": {
      "text/plain": [
       "(63775, 1031)"
      ]
     },
     "execution_count": 21,
     "metadata": {},
     "output_type": "execute_result"
    }
   ],
   "source": [
    "# Load CCLE Mutation Data\n",
    "ccle_mut_file_name = os.path.join('..', '..', 'onco-gps-paper-analysis', 'data', \n",
    "                                  'mutation__gene_x_ccle_cellline.gct')\n",
    "ccle_all_mut_df = pd.read_table(ccle_mut_file_name, skiprows=2, index_col=0)\n",
    "ccle_all_mut_df.shape"
   ]
  },
  {
   "cell_type": "code",
   "execution_count": 22,
   "metadata": {
    "collapsed": false
   },
   "outputs": [
    {
     "name": "stdout",
     "output_type": "stream",
     "text": [
      "(1030, 5)\n"
     ]
    },
    {
     "data": {
      "text/html": [
       "<div>\n",
       "<style>\n",
       "    .dataframe thead tr:only-child th {\n",
       "        text-align: right;\n",
       "    }\n",
       "\n",
       "    .dataframe thead th {\n",
       "        text-align: left;\n",
       "    }\n",
       "\n",
       "    .dataframe tbody tr th {\n",
       "        vertical-align: top;\n",
       "    }\n",
       "</style>\n",
       "<table border=\"1\" class=\"dataframe\">\n",
       "  <thead>\n",
       "    <tr style=\"text-align: right;\">\n",
       "      <th>Name</th>\n",
       "      <th>KRAS_MUT</th>\n",
       "      <th>HRAS_MUT</th>\n",
       "      <th>NRAS_MUT</th>\n",
       "      <th>BRAF_MUT</th>\n",
       "      <th>ras_status</th>\n",
       "    </tr>\n",
       "  </thead>\n",
       "  <tbody>\n",
       "    <tr>\n",
       "      <th>DMS53_LUNG</th>\n",
       "      <td>0</td>\n",
       "      <td>0</td>\n",
       "      <td>0</td>\n",
       "      <td>0</td>\n",
       "      <td>0</td>\n",
       "    </tr>\n",
       "    <tr>\n",
       "      <th>SW1116_LARGE_INTESTINE</th>\n",
       "      <td>1</td>\n",
       "      <td>0</td>\n",
       "      <td>0</td>\n",
       "      <td>0</td>\n",
       "      <td>1</td>\n",
       "    </tr>\n",
       "    <tr>\n",
       "      <th>NCIH1694_LUNG</th>\n",
       "      <td>0</td>\n",
       "      <td>0</td>\n",
       "      <td>0</td>\n",
       "      <td>0</td>\n",
       "      <td>0</td>\n",
       "    </tr>\n",
       "    <tr>\n",
       "      <th>P3HR1_HAEMATOPOIETIC_AND_LYMPHOID_TISSUE</th>\n",
       "      <td>0</td>\n",
       "      <td>0</td>\n",
       "      <td>0</td>\n",
       "      <td>0</td>\n",
       "      <td>0</td>\n",
       "    </tr>\n",
       "    <tr>\n",
       "      <th>HUT78_HAEMATOPOIETIC_AND_LYMPHOID_TISSUE</th>\n",
       "      <td>0</td>\n",
       "      <td>0</td>\n",
       "      <td>1</td>\n",
       "      <td>0</td>\n",
       "      <td>1</td>\n",
       "    </tr>\n",
       "  </tbody>\n",
       "</table>\n",
       "</div>"
      ],
      "text/plain": [
       "Name                                     KRAS_MUT HRAS_MUT NRAS_MUT BRAF_MUT  \\\n",
       "DMS53_LUNG                                      0        0        0        0   \n",
       "SW1116_LARGE_INTESTINE                          1        0        0        0   \n",
       "NCIH1694_LUNG                                   0        0        0        0   \n",
       "P3HR1_HAEMATOPOIETIC_AND_LYMPHOID_TISSUE        0        0        0        0   \n",
       "HUT78_HAEMATOPOIETIC_AND_LYMPHOID_TISSUE        0        0        1        0   \n",
       "\n",
       "Name                                     ras_status  \n",
       "DMS53_LUNG                                        0  \n",
       "SW1116_LARGE_INTESTINE                            1  \n",
       "NCIH1694_LUNG                                     0  \n",
       "P3HR1_HAEMATOPOIETIC_AND_LYMPHOID_TISSUE          0  \n",
       "HUT78_HAEMATOPOIETIC_AND_LYMPHOID_TISSUE          1  "
      ]
     },
     "execution_count": 22,
     "metadata": {},
     "output_type": "execute_result"
    }
   ],
   "source": [
    "# Identify all cell lines with mutations in Ras genes, also subset BRAF mutant samples\n",
    "ras_genes = ['KRAS_MUT', 'HRAS_MUT', 'NRAS_MUT']\n",
    "ras_status = ccle_all_mut_df.loc[ras_genes, :].T.apply(max, axis=1)\n",
    "\n",
    "# BRAF mutations do not contribute to Ras status in this case\n",
    "ccle_mut_df = (\n",
    "    ccle_all_mut_df.loc[ras_genes + ['BRAF_MUT'], :].T\n",
    "    .assign(ras_status=ras_status).drop(['Description'])\n",
    "    )\n",
    "print(ccle_mut_df.shape)\n",
    "ccle_mut_df.head(5)"
   ]
  },
  {
   "cell_type": "code",
   "execution_count": 23,
   "metadata": {
    "collapsed": false
   },
   "outputs": [
    {
     "name": "stdout",
     "output_type": "stream",
     "text": [
      "(737, 7)\n"
     ]
    },
    {
     "data": {
      "text/html": [
       "<div>\n",
       "<style>\n",
       "    .dataframe thead tr:only-child th {\n",
       "        text-align: right;\n",
       "    }\n",
       "\n",
       "    .dataframe thead th {\n",
       "        text-align: left;\n",
       "    }\n",
       "\n",
       "    .dataframe tbody tr th {\n",
       "        vertical-align: top;\n",
       "    }\n",
       "</style>\n",
       "<table border=\"1\" class=\"dataframe\">\n",
       "  <thead>\n",
       "    <tr style=\"text-align: right;\">\n",
       "      <th></th>\n",
       "      <th>KRAS_MUT</th>\n",
       "      <th>HRAS_MUT</th>\n",
       "      <th>NRAS_MUT</th>\n",
       "      <th>BRAF_MUT</th>\n",
       "      <th>ras_status</th>\n",
       "      <th>weight</th>\n",
       "      <th>sample_name</th>\n",
       "    </tr>\n",
       "  </thead>\n",
       "  <tbody>\n",
       "    <tr>\n",
       "      <th>LS1034_LARGE_INTESTINE</th>\n",
       "      <td>1</td>\n",
       "      <td>0</td>\n",
       "      <td>0</td>\n",
       "      <td>0</td>\n",
       "      <td>1</td>\n",
       "      <td>0.941286</td>\n",
       "      <td>LS1034_LARGE_INTESTINE</td>\n",
       "    </tr>\n",
       "    <tr>\n",
       "      <th>BEN_LUNG</th>\n",
       "      <td>0</td>\n",
       "      <td>0</td>\n",
       "      <td>0</td>\n",
       "      <td>0</td>\n",
       "      <td>0</td>\n",
       "      <td>0.941964</td>\n",
       "      <td>BEN_LUNG</td>\n",
       "    </tr>\n",
       "    <tr>\n",
       "      <th>OCUM1_STOMACH</th>\n",
       "      <td>0</td>\n",
       "      <td>0</td>\n",
       "      <td>0</td>\n",
       "      <td>0</td>\n",
       "      <td>0</td>\n",
       "      <td>0.945538</td>\n",
       "      <td>OCUM1_STOMACH</td>\n",
       "    </tr>\n",
       "    <tr>\n",
       "      <th>NCIH650_LUNG</th>\n",
       "      <td>1</td>\n",
       "      <td>0</td>\n",
       "      <td>0</td>\n",
       "      <td>0</td>\n",
       "      <td>1</td>\n",
       "      <td>0.957665</td>\n",
       "      <td>NCIH650_LUNG</td>\n",
       "    </tr>\n",
       "    <tr>\n",
       "      <th>TT2609C02_THYROID</th>\n",
       "      <td>0</td>\n",
       "      <td>0</td>\n",
       "      <td>1</td>\n",
       "      <td>0</td>\n",
       "      <td>1</td>\n",
       "      <td>0.975086</td>\n",
       "      <td>TT2609C02_THYROID</td>\n",
       "    </tr>\n",
       "  </tbody>\n",
       "</table>\n",
       "</div>"
      ],
      "text/plain": [
       "                       KRAS_MUT HRAS_MUT NRAS_MUT BRAF_MUT ras_status  \\\n",
       "LS1034_LARGE_INTESTINE        1        0        0        0          1   \n",
       "BEN_LUNG                      0        0        0        0          0   \n",
       "OCUM1_STOMACH                 0        0        0        0          0   \n",
       "NCIH650_LUNG                  1        0        0        0          1   \n",
       "TT2609C02_THYROID             0        0        1        0          1   \n",
       "\n",
       "                          weight             sample_name  \n",
       "LS1034_LARGE_INTESTINE  0.941286  LS1034_LARGE_INTESTINE  \n",
       "BEN_LUNG                0.941964                BEN_LUNG  \n",
       "OCUM1_STOMACH           0.945538           OCUM1_STOMACH  \n",
       "NCIH650_LUNG            0.957665            NCIH650_LUNG  \n",
       "TT2609C02_THYROID       0.975086       TT2609C02_THYROID  "
      ]
     },
     "execution_count": 23,
     "metadata": {},
     "output_type": "execute_result"
    }
   ],
   "source": [
    "# Join classifier scores with mutation status\n",
    "ccle_full_df = ccle_mut_df.join(result_ccle.T).dropna()\n",
    "ccle_full_df = ccle_full_df.assign(sample_name = ccle_full_df.index)\n",
    "ccle_full_df = ccle_full_df.sort_values(by='weight')\n",
    "print(ccle_full_df.shape)\n",
    "ccle_full_df.tail(5)"
   ]
  },
  {
   "cell_type": "code",
   "execution_count": 24,
   "metadata": {
    "collapsed": true
   },
   "outputs": [],
   "source": [
    "# Use Seaborn for the 2nd plot\n",
    "sns.set(style=\"whitegrid\")\n",
    "sns.set_context(\"paper\", rc={\"font.size\":11, \"axes.titlesize\":11, \"axes.labelsize\":16,\n",
    "                             'xtick.labelsize':11, 'ytick.labelsize':11})"
   ]
  },
  {
   "cell_type": "markdown",
   "metadata": {},
   "source": [
    "### Perform a t-test on classifier weights across groups"
   ]
  },
  {
   "cell_type": "code",
   "execution_count": 25,
   "metadata": {
    "collapsed": false
   },
   "outputs": [
    {
     "name": "stdout",
     "output_type": "stream",
     "text": [
      "Ras Status:\n",
      "Ttest_indResult(statistic=14.212934382489067, pvalue=6.3476266274502043e-36)\n",
      "\n",
      "BRAF Status in Ras Wild-Type Samples:\n",
      "Ttest_indResult(statistic=7.6917803515776813, pvalue=1.1612390405220905e-11)\n"
     ]
    }
   ],
   "source": [
    "# Ras mutant vs. Ras wildtype\n",
    "ras_mutant = ccle_full_df[ccle_full_df['ras_status'] == 1]\n",
    "ras_wt = ccle_full_df[ccle_full_df['ras_status'] == 0]\n",
    "\n",
    "# Also interested in BRAF status within Ras wildtype samples\n",
    "braf_mutant = ras_wt[ras_wt['BRAF_MUT'] == 1]\n",
    "braf_wt = ras_wt[ras_wt['BRAF_MUT'] == 0]\n",
    "\n",
    "# Output t-test results\n",
    "t_results_ras = ttest_ind(a = ras_mutant['weight'],\n",
    "                          b = ras_wt['weight'], equal_var = False)\n",
    "print('Ras Status:')\n",
    "print(t_results_ras)\n",
    "\n",
    "t_results_braf = ttest_ind(a = braf_mutant['weight'],\n",
    "                           b = braf_wt['weight'], equal_var = False)\n",
    "print('\\nBRAF Status in Ras Wild-Type Samples:')\n",
    "print(t_results_braf)\n"
   ]
  },
  {
   "cell_type": "code",
   "execution_count": 26,
   "metadata": {
    "collapsed": false
   },
   "outputs": [
    {
     "data": {
      "image/png": "[encoded data removed]",
      "text/plain": [
       "<matplotlib.figure.Figure at 0x7fb17d7dcd68>"
      ]
     },
     "metadata": {},
     "output_type": "display_data"
    }
   ],
   "source": [
    "# Plot Results\n",
    "x1, x2 = 0, 1\n",
    "x3, x4 = -0.2, 0.2\n",
    "y1, y2, h = 1.17, 1, 0.03\n",
    "plt.rcParams['figure.figsize']=(3.5, 4)\n",
    "ax = sns.boxplot(x=\"ras_status\", y=\"weight\", data=ccle_full_df,\n",
    "                 hue='BRAF_MUT', palette = {0: \"whitesmoke\", 1: 'gainsboro'},\n",
    "                 fliersize=0)\n",
    "ax = sns.stripplot(x='ras_status', y='weight', hue='BRAF_MUT',\n",
    "                   data=ccle_full_df, \n",
    "                   dodge=True, edgecolor='gray',\n",
    "                   palette = {1: \"seagreen\", 0: 'goldenrod'},\n",
    "                   jitter=0.25, size=2, alpha=0.65)\n",
    "handles, labels = ax.get_legend_handles_labels()\n",
    "l = plt.legend(handles[2:4], ['Wild-Type', 'Mutant'], bbox_to_anchor=(.63, 0.2), loc=2, borderaxespad=0.)\n",
    "l.set_title(\"BRAF\")\n",
    "ax.axes.set_ylim(0, 1.3)\n",
    "ax.set_yticklabels([0, 0.2, 0.4, 0.6, 0.8, 1, ''])\n",
    "ax.set_xticklabels(['Ras Wild-Type', 'Ras Mutant'])\n",
    "ax.set_ylabel('Ras Classifier Score')\n",
    "ax.set_xlabel('CCLE Data')\n",
    "ax.legend\n",
    "plt.axhline(0.5, color='black', linestyle='dashed', linewidth=1)\n",
    "\n",
    "\n",
    "# Add Ras T-Test Results\n",
    "plt.plot([x1, x1, x2, x2], [y1, y1+h, y1+h, y1], lw=1.2, c='black')\n",
    "plt.text(.5, y1+h, \"{:.2E}\".format(Decimal(t_results_ras.pvalue)),\n",
    "         ha='center', va='bottom', color=\"black\")\n",
    "\n",
    "# Add BRAF t-test results\n",
    "plt.plot([x3, x3, x4, x4], [y2, y2+h, y2+h, y2], lw=1.2, c='black')\n",
    "plt.text(0, y2+h, \"{:.2E}\".format(Decimal(t_results_braf.pvalue)),\n",
    "         ha='center', va='bottom', color=\"black\")\n",
    "\n",
    "plt.tight_layout()\n",
    "ccle_fig_file = os.path.join('..', 'figures', 'cell_line', 'ccle_predictions.pdf')\n",
    "plt.savefig(ccle_fig_file)"
   ]
  },
  {
   "cell_type": "markdown",
   "metadata": {},
   "source": [
    "### What percentage of correct classifications in CCLE data?"
   ]
  },
  {
   "cell_type": "code",
   "execution_count": 27,
   "metadata": {
    "collapsed": false
   },
   "outputs": [],
   "source": [
    "positive_ras_ccle = ccle_full_df[ccle_full_df['weight'] > 0.5]\n",
    "negative_ras_ccle = ccle_full_df[ccle_full_df['weight'] <= 0.5]"
   ]
  },
  {
   "cell_type": "code",
   "execution_count": 28,
   "metadata": {
    "collapsed": false
   },
   "outputs": [
    {
     "data": {
      "text/plain": [
       "0    357\n",
       "1     36\n",
       "Name: ras_status, dtype: int64"
      ]
     },
     "execution_count": 28,
     "metadata": {},
     "output_type": "execute_result"
    }
   ],
   "source": [
    "# Negative predictions of wild-type Ras\n",
    "negative_ras_ccle['ras_status'].value_counts()"
   ]
  },
  {
   "cell_type": "code",
   "execution_count": 29,
   "metadata": {
    "collapsed": false
   },
   "outputs": [
    {
     "name": "stdout",
     "output_type": "stream",
     "text": [
      "357 of 393 Ras wt predicted correctly (90.8%)\n"
     ]
    }
   ],
   "source": [
    "neg_ccle_results = negative_ras_ccle['ras_status'].value_counts()\n",
    "correct_neg = neg_ccle_results[0]\n",
    "total_neg = neg_ccle_results.sum()\n",
    "print('{} of {} Ras wt predicted correctly ({:.1f}%)'.format(correct_neg,\n",
    "                                                             total_neg,\n",
    "                                                             correct_neg * 100 / total_neg))"
   ]
  },
  {
   "cell_type": "code",
   "execution_count": 30,
   "metadata": {
    "collapsed": false
   },
   "outputs": [
    {
     "data": {
      "text/plain": [
       "0    191\n",
       "1    153\n",
       "Name: ras_status, dtype: int64"
      ]
     },
     "execution_count": 30,
     "metadata": {},
     "output_type": "execute_result"
    }
   ],
   "source": [
    "# Positive predictions of wild-type Ras\n",
    "positive_ras_ccle['ras_status'].value_counts()"
   ]
  },
  {
   "cell_type": "code",
   "execution_count": 31,
   "metadata": {
    "collapsed": false
   },
   "outputs": [
    {
     "name": "stdout",
     "output_type": "stream",
     "text": [
      "153 of 344 Ras mut predicted correctly (44.5%)\n"
     ]
    }
   ],
   "source": [
    "pos_ccle_results = positive_ras_ccle['ras_status'].value_counts()\n",
    "correct_pos = pos_ccle_results[1]\n",
    "total_pos = pos_ccle_results.sum()\n",
    "print('{} of {} Ras mut predicted correctly ({:.1f}%)'.format(correct_pos,\n",
    "                                                              total_pos,\n",
    "                                                              correct_pos * 100 / total_pos))"
   ]
  },
  {
   "cell_type": "code",
   "execution_count": 32,
   "metadata": {
    "collapsed": false
   },
   "outputs": [
    {
     "data": {
      "text/plain": [
       "0    135\n",
       "1     56\n",
       "Name: BRAF_MUT, dtype: int64"
      ]
     },
     "execution_count": 32,
     "metadata": {},
     "output_type": "execute_result"
    }
   ],
   "source": [
    "# Of the False positives, how many are BRAF mutant?\n",
    "wt_ras_braf_ccle = positive_ras_ccle[positive_ras_ccle['ras_status'] == 0]\n",
    "wt_ras_braf_ccle['BRAF_MUT'].value_counts()"
   ]
  },
  {
   "cell_type": "code",
   "execution_count": 33,
   "metadata": {
    "collapsed": false
   },
   "outputs": [
    {
     "name": "stdout",
     "output_type": "stream",
     "text": [
      "Including BRAF mutants, 209 of 344 Ras mut predicted correctly (60.8%)\n"
     ]
    }
   ],
   "source": [
    "correct_braf = wt_ras_braf_ccle['BRAF_MUT'].value_counts()[1]\n",
    "correct_pos += correct_braf\n",
    "print('Including BRAF mutants'\n",
    "      ', {} of {} Ras mut predicted correctly ({:.1f}%)'.format(correct_pos,\n",
    "                                                                total_pos,\n",
    "                                                                correct_pos * 100 / total_pos))"
   ]
  },
  {
   "cell_type": "code",
   "execution_count": 34,
   "metadata": {
    "collapsed": false
   },
   "outputs": [
    {
     "name": "stdout",
     "output_type": "stream",
     "text": [
      "566 of 737 Total predicted correctly (76.8%)\n"
     ]
    }
   ],
   "source": [
    "total_correct = correct_pos + correct_neg\n",
    "print('{} of {} Total predicted correctly ({:.1f}%)'.format(total_correct,\n",
    "                                                            ccle_full_df.shape[0],\n",
    "                                                            total_correct * 100 / ccle_full_df.shape[0]))"
   ]
  },
  {
   "cell_type": "markdown",
   "metadata": {},
   "source": [
    "## CCLE - Pharmacologic Efficacy\n",
    "\n",
    "Here, we process drug efficacy data on the CCLE dataset. Data obtained from https://portals.broadinstitute.org/ccle/data (Pharmacologic profiling) (signin required).\n",
    "\n",
    "A processed `.tsv` file is output to be visualized in `scripts/viz/ras_ccle_pharmacology.R`."
   ]
  },
  {
   "cell_type": "code",
   "execution_count": 35,
   "metadata": {
    "collapsed": false
   },
   "outputs": [
    {
     "data": {
      "text/html": [
       "<div>\n",
       "<style>\n",
       "    .dataframe thead tr:only-child th {\n",
       "        text-align: right;\n",
       "    }\n",
       "\n",
       "    .dataframe thead th {\n",
       "        text-align: left;\n",
       "    }\n",
       "\n",
       "    .dataframe tbody tr th {\n",
       "        vertical-align: top;\n",
       "    }\n",
       "</style>\n",
       "<table border=\"1\" class=\"dataframe\">\n",
       "  <thead>\n",
       "    <tr style=\"text-align: right;\">\n",
       "      <th></th>\n",
       "      <th>Primary Cell Line Name</th>\n",
       "      <th>Compound</th>\n",
       "      <th>Target</th>\n",
       "      <th>Doses (uM)</th>\n",
       "      <th>Activity Data (median)</th>\n",
       "      <th>Activity SD</th>\n",
       "      <th>Num Data</th>\n",
       "      <th>FitType</th>\n",
       "      <th>EC50 (uM)</th>\n",
       "      <th>IC50 (uM)</th>\n",
       "      <th>Amax</th>\n",
       "      <th>ActArea</th>\n",
       "      <th>tissue</th>\n",
       "      <th>KRAS_MUT</th>\n",
       "      <th>HRAS_MUT</th>\n",
       "      <th>NRAS_MUT</th>\n",
       "      <th>BRAF_MUT</th>\n",
       "      <th>ras_status</th>\n",
       "      <th>weight</th>\n",
       "      <th>sample_name</th>\n",
       "    </tr>\n",
       "  </thead>\n",
       "  <tbody>\n",
       "    <tr>\n",
       "      <th>A172_CENTRAL_NERVOUS_SYSTEM</th>\n",
       "      <td>A172</td>\n",
       "      <td>AEW541</td>\n",
       "      <td>IGF1R</td>\n",
       "      <td>.0025,.0080,.025,.080,.25,.80,2.53,8</td>\n",
       "      <td>-.27,.084,-2.7,-6.1,-6.3,-6.1,-15,-22</td>\n",
       "      <td>5.84,1.59,2.77,5.89,2.43,3.25,4.54,7.73</td>\n",
       "      <td>8</td>\n",
       "      <td>Sigmoid</td>\n",
       "      <td>8.419621</td>\n",
       "      <td>8.000000</td>\n",
       "      <td>-21.366783</td>\n",
       "      <td>0.36150</td>\n",
       "      <td>CENTRAL NERVOUS SYSTEM</td>\n",
       "      <td>0</td>\n",
       "      <td>0</td>\n",
       "      <td>0</td>\n",
       "      <td>0</td>\n",
       "      <td>0</td>\n",
       "      <td>0.533951</td>\n",
       "      <td>A172_CENTRAL_NERVOUS_SYSTEM</td>\n",
       "    </tr>\n",
       "    <tr>\n",
       "      <th>A172_CENTRAL_NERVOUS_SYSTEM</th>\n",
       "      <td>A172</td>\n",
       "      <td>Nilotinib</td>\n",
       "      <td>ABL</td>\n",
       "      <td>.0025,.0080,.025,.080,.25,.80,2.53,8</td>\n",
       "      <td>-.75,3.15,9.45,7.81,1.15,4.57,-3.7,-2.1</td>\n",
       "      <td>6.44,3.36,2.34,1.18,1.86,3.21,4.71,6.22</td>\n",
       "      <td>8</td>\n",
       "      <td>Constant</td>\n",
       "      <td>NaN</td>\n",
       "      <td>8.000000</td>\n",
       "      <td>2.413093</td>\n",
       "      <td>0.00000</td>\n",
       "      <td>CENTRAL NERVOUS SYSTEM</td>\n",
       "      <td>0</td>\n",
       "      <td>0</td>\n",
       "      <td>0</td>\n",
       "      <td>0</td>\n",
       "      <td>0</td>\n",
       "      <td>0.533951</td>\n",
       "      <td>A172_CENTRAL_NERVOUS_SYSTEM</td>\n",
       "    </tr>\n",
       "    <tr>\n",
       "      <th>A172_CENTRAL_NERVOUS_SYSTEM</th>\n",
       "      <td>A172</td>\n",
       "      <td>17-AAG</td>\n",
       "      <td>HSP90</td>\n",
       "      <td>.0025,.0080,.025,.080,.25,.80,2.53,8</td>\n",
       "      <td>-4.1,-3.6,-8.3,-13,-49,-67,-67,-71</td>\n",
       "      <td>2.33,.79,1.76,4.40,3.10,2.19,1.71,2.43</td>\n",
       "      <td>8</td>\n",
       "      <td>Sigmoid</td>\n",
       "      <td>0.179408</td>\n",
       "      <td>0.267499</td>\n",
       "      <td>-68.932632</td>\n",
       "      <td>2.46620</td>\n",
       "      <td>CENTRAL NERVOUS SYSTEM</td>\n",
       "      <td>0</td>\n",
       "      <td>0</td>\n",
       "      <td>0</td>\n",
       "      <td>0</td>\n",
       "      <td>0</td>\n",
       "      <td>0.533951</td>\n",
       "      <td>A172_CENTRAL_NERVOUS_SYSTEM</td>\n",
       "    </tr>\n",
       "    <tr>\n",
       "      <th>A172_CENTRAL_NERVOUS_SYSTEM</th>\n",
       "      <td>A172</td>\n",
       "      <td>PHA-665752</td>\n",
       "      <td>c-MET</td>\n",
       "      <td>.0025,.0080,.025,.080,.25,.80,2.53,8</td>\n",
       "      <td>-11,-.73,3.40,1.00,.26,5.42,7.48,10.4</td>\n",
       "      <td>.86,7.72,2.80,14.1,6.64,2.25,7.98,6.82</td>\n",
       "      <td>8</td>\n",
       "      <td>Linear</td>\n",
       "      <td>NaN</td>\n",
       "      <td>8.000000</td>\n",
       "      <td>-10.644121</td>\n",
       "      <td>0.08666</td>\n",
       "      <td>CENTRAL NERVOUS SYSTEM</td>\n",
       "      <td>0</td>\n",
       "      <td>0</td>\n",
       "      <td>0</td>\n",
       "      <td>0</td>\n",
       "      <td>0</td>\n",
       "      <td>0.533951</td>\n",
       "      <td>A172_CENTRAL_NERVOUS_SYSTEM</td>\n",
       "    </tr>\n",
       "    <tr>\n",
       "      <th>A172_CENTRAL_NERVOUS_SYSTEM</th>\n",
       "      <td>A172</td>\n",
       "      <td>Lapatinib</td>\n",
       "      <td>EGFR</td>\n",
       "      <td>.0025,.0080,.025,.080,.25,.80,2.53,8</td>\n",
       "      <td>3.48,1.18,.20,2.58,-4.6,-2.1,-8.0,-4.2</td>\n",
       "      <td>.91,.27,3.61,4.82,4.66,6.00,3.26,8.81</td>\n",
       "      <td>8</td>\n",
       "      <td>Constant</td>\n",
       "      <td>NaN</td>\n",
       "      <td>8.000000</td>\n",
       "      <td>0.184027</td>\n",
       "      <td>0.00000</td>\n",
       "      <td>CENTRAL NERVOUS SYSTEM</td>\n",
       "      <td>0</td>\n",
       "      <td>0</td>\n",
       "      <td>0</td>\n",
       "      <td>0</td>\n",
       "      <td>0</td>\n",
       "      <td>0.533951</td>\n",
       "      <td>A172_CENTRAL_NERVOUS_SYSTEM</td>\n",
       "    </tr>\n",
       "  </tbody>\n",
       "</table>\n",
       "</div>"
      ],
      "text/plain": [
       "                            Primary Cell Line Name    Compound Target  \\\n",
       "A172_CENTRAL_NERVOUS_SYSTEM                   A172      AEW541  IGF1R   \n",
       "A172_CENTRAL_NERVOUS_SYSTEM                   A172   Nilotinib    ABL   \n",
       "A172_CENTRAL_NERVOUS_SYSTEM                   A172      17-AAG  HSP90   \n",
       "A172_CENTRAL_NERVOUS_SYSTEM                   A172  PHA-665752  c-MET   \n",
       "A172_CENTRAL_NERVOUS_SYSTEM                   A172   Lapatinib   EGFR   \n",
       "\n",
       "                                                       Doses (uM)  \\\n",
       "A172_CENTRAL_NERVOUS_SYSTEM  .0025,.0080,.025,.080,.25,.80,2.53,8   \n",
       "A172_CENTRAL_NERVOUS_SYSTEM  .0025,.0080,.025,.080,.25,.80,2.53,8   \n",
       "A172_CENTRAL_NERVOUS_SYSTEM  .0025,.0080,.025,.080,.25,.80,2.53,8   \n",
       "A172_CENTRAL_NERVOUS_SYSTEM  .0025,.0080,.025,.080,.25,.80,2.53,8   \n",
       "A172_CENTRAL_NERVOUS_SYSTEM  .0025,.0080,.025,.080,.25,.80,2.53,8   \n",
       "\n",
       "                                              Activity Data (median)  \\\n",
       "A172_CENTRAL_NERVOUS_SYSTEM    -.27,.084,-2.7,-6.1,-6.3,-6.1,-15,-22   \n",
       "A172_CENTRAL_NERVOUS_SYSTEM  -.75,3.15,9.45,7.81,1.15,4.57,-3.7,-2.1   \n",
       "A172_CENTRAL_NERVOUS_SYSTEM       -4.1,-3.6,-8.3,-13,-49,-67,-67,-71   \n",
       "A172_CENTRAL_NERVOUS_SYSTEM    -11,-.73,3.40,1.00,.26,5.42,7.48,10.4   \n",
       "A172_CENTRAL_NERVOUS_SYSTEM   3.48,1.18,.20,2.58,-4.6,-2.1,-8.0,-4.2   \n",
       "\n",
       "                                                         Activity SD  \\\n",
       "A172_CENTRAL_NERVOUS_SYSTEM  5.84,1.59,2.77,5.89,2.43,3.25,4.54,7.73   \n",
       "A172_CENTRAL_NERVOUS_SYSTEM  6.44,3.36,2.34,1.18,1.86,3.21,4.71,6.22   \n",
       "A172_CENTRAL_NERVOUS_SYSTEM   2.33,.79,1.76,4.40,3.10,2.19,1.71,2.43   \n",
       "A172_CENTRAL_NERVOUS_SYSTEM   .86,7.72,2.80,14.1,6.64,2.25,7.98,6.82   \n",
       "A172_CENTRAL_NERVOUS_SYSTEM    .91,.27,3.61,4.82,4.66,6.00,3.26,8.81   \n",
       "\n",
       "                             Num Data   FitType  EC50 (uM)  IC50 (uM)  \\\n",
       "A172_CENTRAL_NERVOUS_SYSTEM         8   Sigmoid   8.419621   8.000000   \n",
       "A172_CENTRAL_NERVOUS_SYSTEM         8  Constant        NaN   8.000000   \n",
       "A172_CENTRAL_NERVOUS_SYSTEM         8   Sigmoid   0.179408   0.267499   \n",
       "A172_CENTRAL_NERVOUS_SYSTEM         8    Linear        NaN   8.000000   \n",
       "A172_CENTRAL_NERVOUS_SYSTEM         8  Constant        NaN   8.000000   \n",
       "\n",
       "                                  Amax  ActArea                  tissue  \\\n",
       "A172_CENTRAL_NERVOUS_SYSTEM -21.366783  0.36150  CENTRAL NERVOUS SYSTEM   \n",
       "A172_CENTRAL_NERVOUS_SYSTEM   2.413093  0.00000  CENTRAL NERVOUS SYSTEM   \n",
       "A172_CENTRAL_NERVOUS_SYSTEM -68.932632  2.46620  CENTRAL NERVOUS SYSTEM   \n",
       "A172_CENTRAL_NERVOUS_SYSTEM -10.644121  0.08666  CENTRAL NERVOUS SYSTEM   \n",
       "A172_CENTRAL_NERVOUS_SYSTEM   0.184027  0.00000  CENTRAL NERVOUS SYSTEM   \n",
       "\n",
       "                            KRAS_MUT HRAS_MUT NRAS_MUT BRAF_MUT ras_status  \\\n",
       "A172_CENTRAL_NERVOUS_SYSTEM        0        0        0        0          0   \n",
       "A172_CENTRAL_NERVOUS_SYSTEM        0        0        0        0          0   \n",
       "A172_CENTRAL_NERVOUS_SYSTEM        0        0        0        0          0   \n",
       "A172_CENTRAL_NERVOUS_SYSTEM        0        0        0        0          0   \n",
       "A172_CENTRAL_NERVOUS_SYSTEM        0        0        0        0          0   \n",
       "\n",
       "                               weight                  sample_name  \n",
       "A172_CENTRAL_NERVOUS_SYSTEM  0.533951  A172_CENTRAL_NERVOUS_SYSTEM  \n",
       "A172_CENTRAL_NERVOUS_SYSTEM  0.533951  A172_CENTRAL_NERVOUS_SYSTEM  \n",
       "A172_CENTRAL_NERVOUS_SYSTEM  0.533951  A172_CENTRAL_NERVOUS_SYSTEM  \n",
       "A172_CENTRAL_NERVOUS_SYSTEM  0.533951  A172_CENTRAL_NERVOUS_SYSTEM  \n",
       "A172_CENTRAL_NERVOUS_SYSTEM  0.533951  A172_CENTRAL_NERVOUS_SYSTEM  "
      ]
     },
     "execution_count": 35,
     "metadata": {},
     "output_type": "execute_result"
    }
   ],
   "source": [
    "# Load in pharmacological results\n",
    "pharm_file = os.path.join('..', 'data', 'CCLE_NP24.2009_Drug_data_2015.02.24.csv')\n",
    "pharm_df = pd.read_csv(pharm_file, index_col=0)\n",
    "pharm_df = pharm_df.assign(tissue = [' '.join(x[1:]) for x in pharm_df.index.str.split('_')])\n",
    "\n",
    "pharm_full_df = pharm_df.merge(ccle_full_df, left_index=True, right_index=True)\n",
    "pharm_full_df.head()"
   ]
  },
  {
   "cell_type": "code",
   "execution_count": 36,
   "metadata": {
    "collapsed": false
   },
   "outputs": [
    {
     "name": "stdout",
     "output_type": "stream",
     "text": [
      "There are 388 cell lines in common\n"
     ]
    },
    {
     "data": {
      "text/plain": [
       "PF2341066       388\n",
       "Topotecan       388\n",
       "Nutlin-3        388\n",
       "AZD0530         388\n",
       "Lapatinib       388\n",
       "TKI258          388\n",
       "TAE684          388\n",
       "PD-0325901      388\n",
       "17-AAG          387\n",
       "Erlotinib       387\n",
       "Paclitaxel      387\n",
       "AEW541          387\n",
       "AZD6244         387\n",
       "Sorafenib       387\n",
       "PHA-665752      387\n",
       "LBW242          387\n",
       "Panobinostat    384\n",
       "PLX4720         381\n",
       "ZD-6474         381\n",
       "L-685458        376\n",
       "RAF265          349\n",
       "PD-0332991      324\n",
       "Nilotinib       311\n",
       "Irinotecan      237\n",
       "Name: Compound, dtype: int64"
      ]
     },
     "execution_count": 36,
     "metadata": {},
     "output_type": "execute_result"
    }
   ],
   "source": [
    "common_celllines_pharm = set(ccle_full_df.index).intersection(set(pharm_df.index))\n",
    "print('There are {} cell lines in common'.format(len(common_celllines_pharm)))\n",
    "\n",
    "pharm_full_df['Compound'].value_counts()"
   ]
  },
  {
   "cell_type": "code",
   "execution_count": 37,
   "metadata": {
    "collapsed": false
   },
   "outputs": [
    {
     "data": {
      "text/plain": [
       "LUNG                         1991\n",
       "SKIN                          840\n",
       "BREAST                        677\n",
       "PANCREAS                      599\n",
       "OVARY                         587\n",
       "CENTRAL NERVOUS SYSTEM        585\n",
       "LARGE INTESTINE               489\n",
       "ENDOMETRIUM                   458\n",
       "STOMACH                       396\n",
       "LIVER                         388\n",
       "OESOPHAGUS                    339\n",
       "URINARY TRACT                 286\n",
       "SOFT TISSUE                   244\n",
       "BONE                          236\n",
       "AUTONOMIC GANGLIA             200\n",
       "PLEURA                        165\n",
       "KIDNEY                        163\n",
       "UPPER AERODIGESTIVE TRACT     156\n",
       "THYROID                        72\n",
       "PROSTATE                       48\n",
       "BILIARY TRACT                  24\n",
       "Name: tissue, dtype: int64"
      ]
     },
     "execution_count": 37,
     "metadata": {},
     "output_type": "execute_result"
    }
   ],
   "source": [
    "pharm_full_df['tissue'].value_counts()"
   ]
  },
  {
   "cell_type": "code",
   "execution_count": 38,
   "metadata": {
    "collapsed": false
   },
   "outputs": [],
   "source": [
    "# What is the cell line tissue representation?\n",
    "compound_heatmap = pd.pivot_table(pharm_full_df[['tissue', 'Compound']],\n",
    "                                  columns='tissue', index='Compound',\n",
    "                                  aggfunc=len)\n",
    "\n",
    "compound_heatmap = pd.DataFrame(compound_heatmap.unstack()).reset_index()\n",
    "compound_heatmap.columns = ['tissue', 'Compound', 'count']\n",
    "compound_heatmap = compound_heatmap.sort_values(by=['tissue', 'Compound'])"
   ]
  },
  {
   "cell_type": "code",
   "execution_count": 39,
   "metadata": {
    "collapsed": false
   },
   "outputs": [
    {
     "data": {
      "image/png": "[encoded data removed]",
      "text/plain": [
       "<matplotlib.figure.Figure at 0x7fb17c5735c0>"
      ]
     },
     "metadata": {},
     "output_type": "display_data"
    },
    {
     "data": {
      "text/plain": [
       "<ggplot: (-9223363261837846363)>"
      ]
     },
     "execution_count": 39,
     "metadata": {},
     "output_type": "execute_result"
    }
   ],
   "source": [
    "gg.ggplot(compound_heatmap, gg.aes('factor(tissue)', 'factor(Compound)', fill='count')) + \\\n",
    "gg.geom_tile(gg.aes(width=.95, height=.95)) + \\\n",
    "gg.theme(axis_text_x=gg.element_text(rotation=90),\n",
    "         panel_background=gg.element_rect(fill='white'))"
   ]
  },
  {
   "cell_type": "code",
   "execution_count": 40,
   "metadata": {
    "collapsed": true
   },
   "outputs": [],
   "source": [
    "# Write out pharm_full_df to file to plot in ggplot2\n",
    "# plotnine does not include all the functionality required to create the plot\n",
    "pharm_file = os.path.join('..', 'data', 'pharmacology_predictions_ccle.tsv')\n",
    "pharm_full_df.to_csv(pharm_file, sep='\\t')"
   ]
  }
 ],
 "metadata": {
  "kernelspec": {
   "display_name": "Python [default]",
   "language": "python",
   "name": "python3"
  },
  "language_info": {
   "codemirror_mode": {
    "name": "ipython",
    "version": 3
   },
   "file_extension": ".py",
   "mimetype": "text/x-python",
   "name": "python",
   "nbconvert_exporter": "python",
   "pygments_lexer": "ipython3",
   "version": "3.5.2"
  }
 },
 "nbformat": 4,
 "nbformat_minor": 2
}
