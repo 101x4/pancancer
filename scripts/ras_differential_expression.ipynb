{
 "cells": [
  {
   "cell_type": "markdown",
   "metadata": {},
   "source": [
    "# Ras Differential Expression Analysis\n",
    "\n",
    "Perform a t-test across all genes to determine differentially expressed genes between Ras wildtype and Ras mutant genes. Compare with what the model learns and output the data for visualization with R/ggplot2."
   ]
  },
  {
   "cell_type": "code",
   "execution_count": 1,
   "metadata": {
    "collapsed": false
   },
   "outputs": [
    {
     "name": "stderr",
     "output_type": "stream",
     "text": [
      "/home/gway/anaconda3/lib/python3.5/site-packages/statsmodels/compat/pandas.py:56: FutureWarning: The pandas.core.datetools module is deprecated and will be removed in a future version. Please use the pandas.tseries module instead.\n",
      "  from pandas.core import datetools\n"
     ]
    }
   ],
   "source": [
    "import os\n",
    "import sys\n",
    "import pandas as pd\n",
    "import scipy\n",
    "from sklearn.preprocessing import StandardScaler\n",
    "\n",
    "import matplotlib.pyplot as plt\n",
    "import seaborn as sns\n",
    "import plotnine as gg\n",
    "\n",
    "sys.path.insert(0, os.path.join('..', 'scripts', 'util'))\n",
    "from tcga_util import integrate_copy_number"
   ]
  },
  {
   "cell_type": "code",
   "execution_count": 2,
   "metadata": {
    "collapsed": true
   },
   "outputs": [],
   "source": [
    "%matplotlib inline\n",
    "plt.style.use('seaborn-notebook')"
   ]
  },
  {
   "cell_type": "markdown",
   "metadata": {},
   "source": [
    "## Load Data\n",
    "\n",
    "Loading RNAseq (X matrix), copy number and mutation (Y matrix), and coefficients data (W matrix from machine learning model)"
   ]
  },
  {
   "cell_type": "code",
   "execution_count": 3,
   "metadata": {
    "collapsed": false
   },
   "outputs": [],
   "source": [
    "# Load RNAseq matrix\n",
    "expr_file = os.path.join('..', 'data', 'pancan_rnaseq_freeze.tsv')\n",
    "rnaseq_full_df = pd.read_table(expr_file, index_col=0)"
   ]
  },
  {
   "cell_type": "code",
   "execution_count": 4,
   "metadata": {
    "collapsed": true
   },
   "outputs": [],
   "source": [
    "# Load Mutation matrix\n",
    "mut_file = os.path.join('..', 'data', 'pancan_mutation_freeze.tsv')\n",
    "mutation_df = pd.read_table(mut_file, index_col=0)"
   ]
  },
  {
   "cell_type": "code",
   "execution_count": 5,
   "metadata": {
    "collapsed": true
   },
   "outputs": [],
   "source": [
    "# Load sample freeze data and cancer genes\n",
    "sample_freeze_file = os.path.join('..', 'data', 'sample_freeze.tsv')\n",
    "sample_freeze = pd.read_table(sample_freeze_file, index_col=0)\n",
    "\n",
    "cancer_gene_file = os.path.join('..', 'data', 'vogelstein_cancergenes.tsv')\n",
    "cancer_genes = pd.read_table(cancer_gene_file)"
   ]
  },
  {
   "cell_type": "code",
   "execution_count": 6,
   "metadata": {
    "collapsed": true
   },
   "outputs": [],
   "source": [
    "# Load copy number data to determine final status matrix\n",
    "copy_loss_file = os.path.join('..', 'data', 'copy_number_loss_status.tsv')\n",
    "copy_gain_file = os.path.join('..', 'data', 'copy_number_gain_status.tsv')\n",
    "\n",
    "copy_loss_df = pd.read_table(copy_loss_file, index_col=0)\n",
    "copy_gain_df = pd.read_table(copy_gain_file, index_col=0)"
   ]
  },
  {
   "cell_type": "code",
   "execution_count": 7,
   "metadata": {
    "collapsed": true
   },
   "outputs": [],
   "source": [
    "# Load Coefficients File\n",
    "coef_file = os.path.join('..', 'classifiers', 'RAS', 'classifier_coefficients.tsv')\n",
    "coef_df = pd.read_table(coef_file, index_col=0)"
   ]
  },
  {
   "cell_type": "markdown",
   "metadata": {},
   "source": [
    "## Process and Prep Data for Differential Expression Analysis"
   ]
  },
  {
   "cell_type": "code",
   "execution_count": 8,
   "metadata": {
    "collapsed": false
   },
   "outputs": [],
   "source": [
    "# Process y matrix\n",
    "genes = ['KRAS', 'HRAS', 'NRAS']\n",
    "y = mutation_df[genes]\n",
    "\n",
    "y_df = integrate_copy_number(y=y, cancer_genes_df=cancer_genes,\n",
    "                             genes=genes, loss_df=copy_loss_df,\n",
    "                             gain_df=copy_gain_df)\n",
    "\n",
    "y_df = y_df.assign(total_status=y.max(axis=1))\n",
    "y_df = y_df.reset_index().merge(sample_freeze,\n",
    "                          how='left').set_index('SAMPLE_BARCODE')"
   ]
  },
  {
   "cell_type": "code",
   "execution_count": 9,
   "metadata": {
    "collapsed": false
   },
   "outputs": [
    {
     "data": {
      "text/plain": [
       "0    8008\n",
       "1    1066\n",
       "Name: total_status, dtype: int64"
      ]
     },
     "execution_count": 9,
     "metadata": {},
     "output_type": "execute_result"
    }
   ],
   "source": [
    "y_df['total_status'].value_counts()"
   ]
  },
  {
   "cell_type": "code",
   "execution_count": 10,
   "metadata": {
    "collapsed": false
   },
   "outputs": [],
   "source": [
    "# Write out files for easy use in R DEG analysis\n",
    "ras_status_file = os.path.join('..', 'data', 'Ras_sample_status.tsv')\n",
    "y_df.to_csv(ras_status_file, sep='\\t')"
   ]
  },
  {
   "cell_type": "code",
   "execution_count": 11,
   "metadata": {
    "collapsed": false
   },
   "outputs": [],
   "source": [
    "ras_mad_genes_file = os.path.join('..', 'data', 'RNAseq_scaled_all_genes.tsv')\n",
    "\n",
    "x_df = rnaseq_full_df.dropna(axis=1)\n",
    "x_df_update = StandardScaler().fit_transform(x_df)\n",
    "x_df_update = pd.DataFrame(x_df_update, columns=x_df.columns, index=x_df.index)\n",
    "x_df = x_df_update\n",
    "\n",
    "x_df.to_csv(ras_mad_genes_file, sep='\\t')"
   ]
  },
  {
   "cell_type": "code",
   "execution_count": 12,
   "metadata": {
    "collapsed": false
   },
   "outputs": [
    {
     "data": {
      "text/plain": [
       "(9074, 20500)"
      ]
     },
     "execution_count": 12,
     "metadata": {},
     "output_type": "execute_result"
    }
   ],
   "source": [
    "x_df.shape"
   ]
  },
  {
   "cell_type": "markdown",
   "metadata": {},
   "source": [
    "## Example Naive Analysis using simple unadjusted t-tests"
   ]
  },
  {
   "cell_type": "code",
   "execution_count": 13,
   "metadata": {
    "collapsed": false
   },
   "outputs": [],
   "source": [
    "# Get two arrays to compare\n",
    "ras_wt_samples = y_df[y_df['total_status'] == 0].index\n",
    "ras_mut_samples = y_df[y_df['total_status'] == 1].index\n",
    "\n",
    "x_wt_df = x_df.loc[ras_wt_samples, :]\n",
    "x_mut_df = x_df.loc[ras_mut_samples, :]"
   ]
  },
  {
   "cell_type": "code",
   "execution_count": 14,
   "metadata": {
    "collapsed": false
   },
   "outputs": [
    {
     "name": "stderr",
     "output_type": "stream",
     "text": [
      "/home/gway/anaconda3/lib/python3.5/site-packages/scipy/stats/_distn_infrastructure.py:879: RuntimeWarning: invalid value encountered in greater\n",
      "  return (self.a < x) & (x < self.b)\n",
      "/home/gway/anaconda3/lib/python3.5/site-packages/scipy/stats/_distn_infrastructure.py:879: RuntimeWarning: invalid value encountered in less\n",
      "  return (self.a < x) & (x < self.b)\n",
      "/home/gway/anaconda3/lib/python3.5/site-packages/scipy/stats/_distn_infrastructure.py:1818: RuntimeWarning: invalid value encountered in less_equal\n",
      "  cond2 = cond0 & (x <= self.a)\n"
     ]
    }
   ],
   "source": [
    "ttest_results = scipy.stats.ttest_ind(x_mut_df, x_wt_df)\n",
    "t_stat = ttest_results.statistic\n",
    "p_val = ttest_results.pvalue"
   ]
  },
  {
   "cell_type": "code",
   "execution_count": 15,
   "metadata": {
    "collapsed": false
   },
   "outputs": [],
   "source": [
    "ttest_df = pd.DataFrame(t_stat, columns=['stat'])\n",
    "ttest_df = ttest_df.assign(pval = p_val)\n",
    "ttest_df = ttest_df.assign(gene = x_wt_df.columns)"
   ]
  },
  {
   "cell_type": "code",
   "execution_count": 16,
   "metadata": {
    "collapsed": false
   },
   "outputs": [
    {
     "data": {
      "text/html": [
       "<div>\n",
       "<style>\n",
       "    .dataframe thead tr:only-child th {\n",
       "        text-align: right;\n",
       "    }\n",
       "\n",
       "    .dataframe thead th {\n",
       "        text-align: left;\n",
       "    }\n",
       "\n",
       "    .dataframe tbody tr th {\n",
       "        vertical-align: top;\n",
       "    }\n",
       "</style>\n",
       "<table border=\"1\" class=\"dataframe\">\n",
       "  <thead>\n",
       "    <tr style=\"text-align: right;\">\n",
       "      <th></th>\n",
       "      <th>stat</th>\n",
       "      <th>pval</th>\n",
       "      <th>gene</th>\n",
       "      <th>feature</th>\n",
       "      <th>weight</th>\n",
       "      <th>abs</th>\n",
       "    </tr>\n",
       "  </thead>\n",
       "  <tbody>\n",
       "    <tr>\n",
       "      <th>0</th>\n",
       "      <td>-3.084877</td>\n",
       "      <td>0.002042</td>\n",
       "      <td>A2M</td>\n",
       "      <td>A2M</td>\n",
       "      <td>0.0</td>\n",
       "      <td>0.0</td>\n",
       "    </tr>\n",
       "    <tr>\n",
       "      <th>1</th>\n",
       "      <td>-4.428324</td>\n",
       "      <td>0.000010</td>\n",
       "      <td>A4GALT</td>\n",
       "      <td>A4GALT</td>\n",
       "      <td>0.0</td>\n",
       "      <td>0.0</td>\n",
       "    </tr>\n",
       "  </tbody>\n",
       "</table>\n",
       "</div>"
      ],
      "text/plain": [
       "       stat      pval    gene feature  weight  abs\n",
       "0 -3.084877  0.002042     A2M     A2M     0.0  0.0\n",
       "1 -4.428324  0.000010  A4GALT  A4GALT     0.0  0.0"
      ]
     },
     "execution_count": 16,
     "metadata": {},
     "output_type": "execute_result"
    }
   ],
   "source": [
    "plot_df = pd.merge(ttest_df, coef_df, left_on='gene', right_on='feature')\n",
    "plot_df.head(2)"
   ]
  },
  {
   "cell_type": "code",
   "execution_count": 17,
   "metadata": {
    "collapsed": false
   },
   "outputs": [
    {
     "data": {
      "image/png": "[encoded data removed]",
      "text/plain": [
       "<matplotlib.figure.Figure at 0x7f612fe3f4e0>"
      ]
     },
     "metadata": {},
     "output_type": "display_data"
    },
    {
     "data": {
      "text/plain": [
       "<ggplot: (-9223363283404045077)>"
      ]
     },
     "execution_count": 17,
     "metadata": {},
     "output_type": "execute_result"
    }
   ],
   "source": [
    "p = (gg.ggplot(plot_df, gg.aes(x='weight', y='stat')) +\n",
    "     gg.geom_point(size=4, alpha=0.6) +\n",
    "     gg.theme_seaborn(style='whitegrid') +\n",
    "     gg.xlab('Ras Classifier Weight') +\n",
    "     gg.ylab('Differential Expression Score') +\n",
    "     gg.ggtitle('') +\n",
    "     gg.theme(\n",
    "        plot_title=gg.element_text(size=22),\n",
    "        axis_title_x=gg.element_text(size=16),\n",
    "        axis_title_y=gg.element_text(size=16),\n",
    "        axis_text_x=gg.element_text(size=14),\n",
    "        axis_text_y=gg.element_text(size=14),\n",
    "        axis_ticks_length=4,\n",
    "        legend_position=(1.0, 0.5),\n",
    "        legend_background=gg.element_blank(),\n",
    "        legend_key=gg.element_rect(fill='white'),\n",
    "        legend_text=gg.element_text(size=9),\n",
    "        legend_title=gg.element_text(size=12),\n",
    "        panel_border=gg.element_blank(),\n",
    "        panel_grid_major=gg.element_blank(),\n",
    "        panel_grid_minor=gg.element_blank()))\n",
    "p"
   ]
  }
 ],
 "metadata": {
  "kernelspec": {
   "display_name": "Python [default]",
   "language": "python",
   "name": "python3"
  },
  "language_info": {
   "codemirror_mode": {
    "name": "ipython",
    "version": 3
   },
   "file_extension": ".py",
   "mimetype": "text/x-python",
   "name": "python",
   "nbconvert_exporter": "python",
   "pygments_lexer": "ipython3",
   "version": "3.5.2"
  }
 },
 "nbformat": 4,
 "nbformat_minor": 2
}
